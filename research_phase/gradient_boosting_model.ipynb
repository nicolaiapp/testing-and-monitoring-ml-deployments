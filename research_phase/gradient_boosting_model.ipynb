{
 "cells": [
  {
   "cell_type": "code",
   "execution_count": 16,
   "metadata": {},
   "outputs": [
    {
     "name": "stdout",
     "output_type": "stream",
     "text": [
      "The autotime extension is already loaded. To reload it, use:\n",
      "  %reload_ext autotime\n",
      "time: 0 ns (started: 2022-10-05 19:05:03 +02:00)\n"
     ]
    }
   ],
   "source": [
    "import warnings\n",
    "warnings.filterwarnings(\"ignore\")\n",
    "\n",
    "from math import sqrt\n",
    "import pandas as pd\n",
    "import numpy as np\n",
    "import matplotlib.pyplot as plt\n",
    "\n",
    "# for the ML pipeline\n",
    "from sklearn.model_selection import train_test_split\n",
    "from sklearn.impute  import SimpleImputer\n",
    "from sklearn.preprocessing import OrdinalEncoder\n",
    "from sklearn.ensemble import GradientBoostingRegressor\n",
    "from sklearn.feature_selection import SelectFromModel\n",
    "from sklearn.metrics import mean_squared_error, r2_score\n",
    "\n",
    "# from sklearn.pipeline import Pipeline\n",
    "# from sklearn.compose import ColumnTransformer\n",
    "\n",
    "from feature_engine.categorical_encoders import RareLabelCategoricalEncoder\n",
    "\n",
    "# to visualise al the columns in the dataframe\n",
    "pd.pandas.set_option('display.max_columns', None)\n",
    "\n",
    "%load_ext autotime"
   ]
  },
  {
   "cell_type": "code",
   "execution_count": 17,
   "metadata": {},
   "outputs": [
    {
     "name": "stdout",
     "output_type": "stream",
     "text": [
      "(1460, 81)\n"
     ]
    },
    {
     "data": {
      "text/plain": "   Id  MSSubClass MSZoning  LotFrontage  LotArea Street Alley LotShape  \\\n0   1          60       RL         65.0     8450   Pave   NaN      Reg   \n1   2          20       RL         80.0     9600   Pave   NaN      Reg   \n2   3          60       RL         68.0    11250   Pave   NaN      IR1   \n3   4          70       RL         60.0     9550   Pave   NaN      IR1   \n4   5          60       RL         84.0    14260   Pave   NaN      IR1   \n\n  LandContour Utilities LotConfig LandSlope Neighborhood Condition1  \\\n0         Lvl    AllPub    Inside       Gtl      CollgCr       Norm   \n1         Lvl    AllPub       FR2       Gtl      Veenker      Feedr   \n2         Lvl    AllPub    Inside       Gtl      CollgCr       Norm   \n3         Lvl    AllPub    Corner       Gtl      Crawfor       Norm   \n4         Lvl    AllPub       FR2       Gtl      NoRidge       Norm   \n\n  Condition2 BldgType HouseStyle  OverallQual  OverallCond  YearBuilt  \\\n0       Norm     1Fam     2Story            7            5       2003   \n1       Norm     1Fam     1Story            6            8       1976   \n2       Norm     1Fam     2Story            7            5       2001   \n3       Norm     1Fam     2Story            7            5       1915   \n4       Norm     1Fam     2Story            8            5       2000   \n\n   YearRemodAdd RoofStyle RoofMatl Exterior1st Exterior2nd MasVnrType  \\\n0          2003     Gable  CompShg     VinylSd     VinylSd    BrkFace   \n1          1976     Gable  CompShg     MetalSd     MetalSd       None   \n2          2002     Gable  CompShg     VinylSd     VinylSd    BrkFace   \n3          1970     Gable  CompShg     Wd Sdng     Wd Shng       None   \n4          2000     Gable  CompShg     VinylSd     VinylSd    BrkFace   \n\n   MasVnrArea ExterQual ExterCond Foundation BsmtQual BsmtCond BsmtExposure  \\\n0       196.0        Gd        TA      PConc       Gd       TA           No   \n1         0.0        TA        TA     CBlock       Gd       TA           Gd   \n2       162.0        Gd        TA      PConc       Gd       TA           Mn   \n3         0.0        TA        TA     BrkTil       TA       Gd           No   \n4       350.0        Gd        TA      PConc       Gd       TA           Av   \n\n  BsmtFinType1  BsmtFinSF1 BsmtFinType2  BsmtFinSF2  BsmtUnfSF  TotalBsmtSF  \\\n0          GLQ         706          Unf           0        150          856   \n1          ALQ         978          Unf           0        284         1262   \n2          GLQ         486          Unf           0        434          920   \n3          ALQ         216          Unf           0        540          756   \n4          GLQ         655          Unf           0        490         1145   \n\n  Heating HeatingQC CentralAir Electrical  1stFlrSF  2ndFlrSF  LowQualFinSF  \\\n0    GasA        Ex          Y      SBrkr       856       854             0   \n1    GasA        Ex          Y      SBrkr      1262         0             0   \n2    GasA        Ex          Y      SBrkr       920       866             0   \n3    GasA        Gd          Y      SBrkr       961       756             0   \n4    GasA        Ex          Y      SBrkr      1145      1053             0   \n\n   GrLivArea  BsmtFullBath  BsmtHalfBath  FullBath  HalfBath  BedroomAbvGr  \\\n0       1710             1             0         2         1             3   \n1       1262             0             1         2         0             3   \n2       1786             1             0         2         1             3   \n3       1717             1             0         1         0             3   \n4       2198             1             0         2         1             4   \n\n   KitchenAbvGr KitchenQual  TotRmsAbvGrd Functional  Fireplaces FireplaceQu  \\\n0             1          Gd             8        Typ           0         NaN   \n1             1          TA             6        Typ           1          TA   \n2             1          Gd             6        Typ           1          TA   \n3             1          Gd             7        Typ           1          Gd   \n4             1          Gd             9        Typ           1          TA   \n\n  GarageType  GarageYrBlt GarageFinish  GarageCars  GarageArea GarageQual  \\\n0     Attchd       2003.0          RFn           2         548         TA   \n1     Attchd       1976.0          RFn           2         460         TA   \n2     Attchd       2001.0          RFn           2         608         TA   \n3     Detchd       1998.0          Unf           3         642         TA   \n4     Attchd       2000.0          RFn           3         836         TA   \n\n  GarageCond PavedDrive  WoodDeckSF  OpenPorchSF  EnclosedPorch  3SsnPorch  \\\n0         TA          Y           0           61              0          0   \n1         TA          Y         298            0              0          0   \n2         TA          Y           0           42              0          0   \n3         TA          Y           0           35            272          0   \n4         TA          Y         192           84              0          0   \n\n   ScreenPorch  PoolArea PoolQC Fence MiscFeature  MiscVal  MoSold  YrSold  \\\n0            0         0    NaN   NaN         NaN        0       2    2008   \n1            0         0    NaN   NaN         NaN        0       5    2007   \n2            0         0    NaN   NaN         NaN        0       9    2008   \n3            0         0    NaN   NaN         NaN        0       2    2006   \n4            0         0    NaN   NaN         NaN        0      12    2008   \n\n  SaleType SaleCondition  SalePrice  \n0       WD        Normal     208500  \n1       WD        Normal     181500  \n2       WD        Normal     223500  \n3       WD       Abnorml     140000  \n4       WD        Normal     250000  ",
      "text/html": "<div>\n<style scoped>\n    .dataframe tbody tr th:only-of-type {\n        vertical-align: middle;\n    }\n\n    .dataframe tbody tr th {\n        vertical-align: top;\n    }\n\n    .dataframe thead th {\n        text-align: right;\n    }\n</style>\n<table border=\"1\" class=\"dataframe\">\n  <thead>\n    <tr style=\"text-align: right;\">\n      <th></th>\n      <th>Id</th>\n      <th>MSSubClass</th>\n      <th>MSZoning</th>\n      <th>LotFrontage</th>\n      <th>LotArea</th>\n      <th>Street</th>\n      <th>Alley</th>\n      <th>LotShape</th>\n      <th>LandContour</th>\n      <th>Utilities</th>\n      <th>LotConfig</th>\n      <th>LandSlope</th>\n      <th>Neighborhood</th>\n      <th>Condition1</th>\n      <th>Condition2</th>\n      <th>BldgType</th>\n      <th>HouseStyle</th>\n      <th>OverallQual</th>\n      <th>OverallCond</th>\n      <th>YearBuilt</th>\n      <th>YearRemodAdd</th>\n      <th>RoofStyle</th>\n      <th>RoofMatl</th>\n      <th>Exterior1st</th>\n      <th>Exterior2nd</th>\n      <th>MasVnrType</th>\n      <th>MasVnrArea</th>\n      <th>ExterQual</th>\n      <th>ExterCond</th>\n      <th>Foundation</th>\n      <th>BsmtQual</th>\n      <th>BsmtCond</th>\n      <th>BsmtExposure</th>\n      <th>BsmtFinType1</th>\n      <th>BsmtFinSF1</th>\n      <th>BsmtFinType2</th>\n      <th>BsmtFinSF2</th>\n      <th>BsmtUnfSF</th>\n      <th>TotalBsmtSF</th>\n      <th>Heating</th>\n      <th>HeatingQC</th>\n      <th>CentralAir</th>\n      <th>Electrical</th>\n      <th>1stFlrSF</th>\n      <th>2ndFlrSF</th>\n      <th>LowQualFinSF</th>\n      <th>GrLivArea</th>\n      <th>BsmtFullBath</th>\n      <th>BsmtHalfBath</th>\n      <th>FullBath</th>\n      <th>HalfBath</th>\n      <th>BedroomAbvGr</th>\n      <th>KitchenAbvGr</th>\n      <th>KitchenQual</th>\n      <th>TotRmsAbvGrd</th>\n      <th>Functional</th>\n      <th>Fireplaces</th>\n      <th>FireplaceQu</th>\n      <th>GarageType</th>\n      <th>GarageYrBlt</th>\n      <th>GarageFinish</th>\n      <th>GarageCars</th>\n      <th>GarageArea</th>\n      <th>GarageQual</th>\n      <th>GarageCond</th>\n      <th>PavedDrive</th>\n      <th>WoodDeckSF</th>\n      <th>OpenPorchSF</th>\n      <th>EnclosedPorch</th>\n      <th>3SsnPorch</th>\n      <th>ScreenPorch</th>\n      <th>PoolArea</th>\n      <th>PoolQC</th>\n      <th>Fence</th>\n      <th>MiscFeature</th>\n      <th>MiscVal</th>\n      <th>MoSold</th>\n      <th>YrSold</th>\n      <th>SaleType</th>\n      <th>SaleCondition</th>\n      <th>SalePrice</th>\n    </tr>\n  </thead>\n  <tbody>\n    <tr>\n      <th>0</th>\n      <td>1</td>\n      <td>60</td>\n      <td>RL</td>\n      <td>65.0</td>\n      <td>8450</td>\n      <td>Pave</td>\n      <td>NaN</td>\n      <td>Reg</td>\n      <td>Lvl</td>\n      <td>AllPub</td>\n      <td>Inside</td>\n      <td>Gtl</td>\n      <td>CollgCr</td>\n      <td>Norm</td>\n      <td>Norm</td>\n      <td>1Fam</td>\n      <td>2Story</td>\n      <td>7</td>\n      <td>5</td>\n      <td>2003</td>\n      <td>2003</td>\n      <td>Gable</td>\n      <td>CompShg</td>\n      <td>VinylSd</td>\n      <td>VinylSd</td>\n      <td>BrkFace</td>\n      <td>196.0</td>\n      <td>Gd</td>\n      <td>TA</td>\n      <td>PConc</td>\n      <td>Gd</td>\n      <td>TA</td>\n      <td>No</td>\n      <td>GLQ</td>\n      <td>706</td>\n      <td>Unf</td>\n      <td>0</td>\n      <td>150</td>\n      <td>856</td>\n      <td>GasA</td>\n      <td>Ex</td>\n      <td>Y</td>\n      <td>SBrkr</td>\n      <td>856</td>\n      <td>854</td>\n      <td>0</td>\n      <td>1710</td>\n      <td>1</td>\n      <td>0</td>\n      <td>2</td>\n      <td>1</td>\n      <td>3</td>\n      <td>1</td>\n      <td>Gd</td>\n      <td>8</td>\n      <td>Typ</td>\n      <td>0</td>\n      <td>NaN</td>\n      <td>Attchd</td>\n      <td>2003.0</td>\n      <td>RFn</td>\n      <td>2</td>\n      <td>548</td>\n      <td>TA</td>\n      <td>TA</td>\n      <td>Y</td>\n      <td>0</td>\n      <td>61</td>\n      <td>0</td>\n      <td>0</td>\n      <td>0</td>\n      <td>0</td>\n      <td>NaN</td>\n      <td>NaN</td>\n      <td>NaN</td>\n      <td>0</td>\n      <td>2</td>\n      <td>2008</td>\n      <td>WD</td>\n      <td>Normal</td>\n      <td>208500</td>\n    </tr>\n    <tr>\n      <th>1</th>\n      <td>2</td>\n      <td>20</td>\n      <td>RL</td>\n      <td>80.0</td>\n      <td>9600</td>\n      <td>Pave</td>\n      <td>NaN</td>\n      <td>Reg</td>\n      <td>Lvl</td>\n      <td>AllPub</td>\n      <td>FR2</td>\n      <td>Gtl</td>\n      <td>Veenker</td>\n      <td>Feedr</td>\n      <td>Norm</td>\n      <td>1Fam</td>\n      <td>1Story</td>\n      <td>6</td>\n      <td>8</td>\n      <td>1976</td>\n      <td>1976</td>\n      <td>Gable</td>\n      <td>CompShg</td>\n      <td>MetalSd</td>\n      <td>MetalSd</td>\n      <td>None</td>\n      <td>0.0</td>\n      <td>TA</td>\n      <td>TA</td>\n      <td>CBlock</td>\n      <td>Gd</td>\n      <td>TA</td>\n      <td>Gd</td>\n      <td>ALQ</td>\n      <td>978</td>\n      <td>Unf</td>\n      <td>0</td>\n      <td>284</td>\n      <td>1262</td>\n      <td>GasA</td>\n      <td>Ex</td>\n      <td>Y</td>\n      <td>SBrkr</td>\n      <td>1262</td>\n      <td>0</td>\n      <td>0</td>\n      <td>1262</td>\n      <td>0</td>\n      <td>1</td>\n      <td>2</td>\n      <td>0</td>\n      <td>3</td>\n      <td>1</td>\n      <td>TA</td>\n      <td>6</td>\n      <td>Typ</td>\n      <td>1</td>\n      <td>TA</td>\n      <td>Attchd</td>\n      <td>1976.0</td>\n      <td>RFn</td>\n      <td>2</td>\n      <td>460</td>\n      <td>TA</td>\n      <td>TA</td>\n      <td>Y</td>\n      <td>298</td>\n      <td>0</td>\n      <td>0</td>\n      <td>0</td>\n      <td>0</td>\n      <td>0</td>\n      <td>NaN</td>\n      <td>NaN</td>\n      <td>NaN</td>\n      <td>0</td>\n      <td>5</td>\n      <td>2007</td>\n      <td>WD</td>\n      <td>Normal</td>\n      <td>181500</td>\n    </tr>\n    <tr>\n      <th>2</th>\n      <td>3</td>\n      <td>60</td>\n      <td>RL</td>\n      <td>68.0</td>\n      <td>11250</td>\n      <td>Pave</td>\n      <td>NaN</td>\n      <td>IR1</td>\n      <td>Lvl</td>\n      <td>AllPub</td>\n      <td>Inside</td>\n      <td>Gtl</td>\n      <td>CollgCr</td>\n      <td>Norm</td>\n      <td>Norm</td>\n      <td>1Fam</td>\n      <td>2Story</td>\n      <td>7</td>\n      <td>5</td>\n      <td>2001</td>\n      <td>2002</td>\n      <td>Gable</td>\n      <td>CompShg</td>\n      <td>VinylSd</td>\n      <td>VinylSd</td>\n      <td>BrkFace</td>\n      <td>162.0</td>\n      <td>Gd</td>\n      <td>TA</td>\n      <td>PConc</td>\n      <td>Gd</td>\n      <td>TA</td>\n      <td>Mn</td>\n      <td>GLQ</td>\n      <td>486</td>\n      <td>Unf</td>\n      <td>0</td>\n      <td>434</td>\n      <td>920</td>\n      <td>GasA</td>\n      <td>Ex</td>\n      <td>Y</td>\n      <td>SBrkr</td>\n      <td>920</td>\n      <td>866</td>\n      <td>0</td>\n      <td>1786</td>\n      <td>1</td>\n      <td>0</td>\n      <td>2</td>\n      <td>1</td>\n      <td>3</td>\n      <td>1</td>\n      <td>Gd</td>\n      <td>6</td>\n      <td>Typ</td>\n      <td>1</td>\n      <td>TA</td>\n      <td>Attchd</td>\n      <td>2001.0</td>\n      <td>RFn</td>\n      <td>2</td>\n      <td>608</td>\n      <td>TA</td>\n      <td>TA</td>\n      <td>Y</td>\n      <td>0</td>\n      <td>42</td>\n      <td>0</td>\n      <td>0</td>\n      <td>0</td>\n      <td>0</td>\n      <td>NaN</td>\n      <td>NaN</td>\n      <td>NaN</td>\n      <td>0</td>\n      <td>9</td>\n      <td>2008</td>\n      <td>WD</td>\n      <td>Normal</td>\n      <td>223500</td>\n    </tr>\n    <tr>\n      <th>3</th>\n      <td>4</td>\n      <td>70</td>\n      <td>RL</td>\n      <td>60.0</td>\n      <td>9550</td>\n      <td>Pave</td>\n      <td>NaN</td>\n      <td>IR1</td>\n      <td>Lvl</td>\n      <td>AllPub</td>\n      <td>Corner</td>\n      <td>Gtl</td>\n      <td>Crawfor</td>\n      <td>Norm</td>\n      <td>Norm</td>\n      <td>1Fam</td>\n      <td>2Story</td>\n      <td>7</td>\n      <td>5</td>\n      <td>1915</td>\n      <td>1970</td>\n      <td>Gable</td>\n      <td>CompShg</td>\n      <td>Wd Sdng</td>\n      <td>Wd Shng</td>\n      <td>None</td>\n      <td>0.0</td>\n      <td>TA</td>\n      <td>TA</td>\n      <td>BrkTil</td>\n      <td>TA</td>\n      <td>Gd</td>\n      <td>No</td>\n      <td>ALQ</td>\n      <td>216</td>\n      <td>Unf</td>\n      <td>0</td>\n      <td>540</td>\n      <td>756</td>\n      <td>GasA</td>\n      <td>Gd</td>\n      <td>Y</td>\n      <td>SBrkr</td>\n      <td>961</td>\n      <td>756</td>\n      <td>0</td>\n      <td>1717</td>\n      <td>1</td>\n      <td>0</td>\n      <td>1</td>\n      <td>0</td>\n      <td>3</td>\n      <td>1</td>\n      <td>Gd</td>\n      <td>7</td>\n      <td>Typ</td>\n      <td>1</td>\n      <td>Gd</td>\n      <td>Detchd</td>\n      <td>1998.0</td>\n      <td>Unf</td>\n      <td>3</td>\n      <td>642</td>\n      <td>TA</td>\n      <td>TA</td>\n      <td>Y</td>\n      <td>0</td>\n      <td>35</td>\n      <td>272</td>\n      <td>0</td>\n      <td>0</td>\n      <td>0</td>\n      <td>NaN</td>\n      <td>NaN</td>\n      <td>NaN</td>\n      <td>0</td>\n      <td>2</td>\n      <td>2006</td>\n      <td>WD</td>\n      <td>Abnorml</td>\n      <td>140000</td>\n    </tr>\n    <tr>\n      <th>4</th>\n      <td>5</td>\n      <td>60</td>\n      <td>RL</td>\n      <td>84.0</td>\n      <td>14260</td>\n      <td>Pave</td>\n      <td>NaN</td>\n      <td>IR1</td>\n      <td>Lvl</td>\n      <td>AllPub</td>\n      <td>FR2</td>\n      <td>Gtl</td>\n      <td>NoRidge</td>\n      <td>Norm</td>\n      <td>Norm</td>\n      <td>1Fam</td>\n      <td>2Story</td>\n      <td>8</td>\n      <td>5</td>\n      <td>2000</td>\n      <td>2000</td>\n      <td>Gable</td>\n      <td>CompShg</td>\n      <td>VinylSd</td>\n      <td>VinylSd</td>\n      <td>BrkFace</td>\n      <td>350.0</td>\n      <td>Gd</td>\n      <td>TA</td>\n      <td>PConc</td>\n      <td>Gd</td>\n      <td>TA</td>\n      <td>Av</td>\n      <td>GLQ</td>\n      <td>655</td>\n      <td>Unf</td>\n      <td>0</td>\n      <td>490</td>\n      <td>1145</td>\n      <td>GasA</td>\n      <td>Ex</td>\n      <td>Y</td>\n      <td>SBrkr</td>\n      <td>1145</td>\n      <td>1053</td>\n      <td>0</td>\n      <td>2198</td>\n      <td>1</td>\n      <td>0</td>\n      <td>2</td>\n      <td>1</td>\n      <td>4</td>\n      <td>1</td>\n      <td>Gd</td>\n      <td>9</td>\n      <td>Typ</td>\n      <td>1</td>\n      <td>TA</td>\n      <td>Attchd</td>\n      <td>2000.0</td>\n      <td>RFn</td>\n      <td>3</td>\n      <td>836</td>\n      <td>TA</td>\n      <td>TA</td>\n      <td>Y</td>\n      <td>192</td>\n      <td>84</td>\n      <td>0</td>\n      <td>0</td>\n      <td>0</td>\n      <td>0</td>\n      <td>NaN</td>\n      <td>NaN</td>\n      <td>NaN</td>\n      <td>0</td>\n      <td>12</td>\n      <td>2008</td>\n      <td>WD</td>\n      <td>Normal</td>\n      <td>250000</td>\n    </tr>\n  </tbody>\n</table>\n</div>"
     },
     "execution_count": 17,
     "metadata": {},
     "output_type": "execute_result"
    },
    {
     "name": "stdout",
     "output_type": "stream",
     "text": [
      "time: 46 ms (started: 2022-10-05 19:05:04 +02:00)\n"
     ]
    }
   ],
   "source": [
    "# load dataset\n",
    "# remember to download the data set  from Kaggle and save it into \n",
    "# the same folder from where you run this notebook\n",
    "\n",
    "data = pd.read_csv('houseprice.csv')\n",
    "\n",
    "print(data.shape)\n",
    "data.head()"
   ]
  },
  {
   "cell_type": "markdown",
   "metadata": {},
   "source": [
    "### Separate dataset into train and test\n",
    "\n",
    "Before beginning to engineer our features, it is important to separate our data intro training and testing set. This is to avoid over-fitting. This step involves randomness, therefore, we need to set the seed."
   ]
  },
  {
   "cell_type": "code",
   "execution_count": 18,
   "metadata": {},
   "outputs": [
    {
     "data": {
      "text/plain": "((1314, 80), (146, 80), (1314,), (146,))"
     },
     "execution_count": 18,
     "metadata": {},
     "output_type": "execute_result"
    },
    {
     "name": "stdout",
     "output_type": "stream",
     "text": [
      "time: 15 ms (started: 2022-10-05 19:05:04 +02:00)\n"
     ]
    }
   ],
   "source": [
    "# Let's separate into train and test set\n",
    "\n",
    "X_train, X_test, y_train, y_test = train_test_split(\n",
    "    data.drop('SalePrice', axis=1), # predictors\n",
    "    data.SalePrice, # target\n",
    "    test_size=0.1,\n",
    "    random_state=0)  # for reproducibility\n",
    "\n",
    "X_train.shape, X_test.shape, y_train.shape, y_test.shape"
   ]
  },
  {
   "cell_type": "markdown",
   "metadata": {},
   "source": [
    "### Missing values"
   ]
  },
  {
   "cell_type": "code",
   "execution_count": 19,
   "metadata": {
    "scrolled": true
   },
   "outputs": [
    {
     "name": "stdout",
     "output_type": "stream",
     "text": [
      "time: 0 ns (started: 2022-10-05 19:05:04 +02:00)\n"
     ]
    }
   ],
   "source": [
    "# make lists capturing the different variables types in our dataset:\n",
    "# -----------------------------------------\n",
    "# one list to capture date variables\n",
    "# one list to capture categorical variables\n",
    "# one list to capture numerical variables\n",
    "\n",
    "# not string and not id\n",
    "vars_dates = ['YearBuilt', 'YearRemodAdd', 'GarageYrBlt']\n",
    "# 'O' stands for Pandas Object <--> numpy Unicode --> Python String\n",
    "vars_cat = [var for var in X_train.columns if X_train[var].dtypes == 'O']\n",
    "# not string and not id\n",
    "vars_num = [var for var in X_train.columns if X_train[var].dtypes !=\n",
    "            'O' and var != 'Id' and var not in vars_dates]"
   ]
  },
  {
   "cell_type": "code",
   "execution_count": 20,
   "outputs": [
    {
     "data": {
      "text/plain": "GarageYrBlt     0.056317\nYearBuilt       0.000000\nYearRemodAdd    0.000000\ndtype: float64"
     },
     "execution_count": 20,
     "metadata": {},
     "output_type": "execute_result"
    },
    {
     "name": "stdout",
     "output_type": "stream",
     "text": [
      "time: 0 ns (started: 2022-10-05 19:05:05 +02:00)\n"
     ]
    }
   ],
   "source": [
    "# check for missing values in our date variables\n",
    "\n",
    "X_train[vars_dates].isnull().mean().sort_values(ascending=False)"
   ],
   "metadata": {
    "collapsed": false
   }
  },
  {
   "cell_type": "code",
   "execution_count": 21,
   "outputs": [
    {
     "data": {
      "text/plain": "PoolQC           0.995434\nMiscFeature      0.961187\nAlley            0.938356\nFence            0.814307\nFireplaceQu      0.472603\nGarageType       0.056317\nGarageCond       0.056317\nGarageQual       0.056317\nGarageFinish     0.056317\nBsmtFinType2     0.025114\nBsmtExposure     0.025114\nBsmtFinType1     0.024353\nBsmtQual         0.024353\nBsmtCond         0.024353\nMasVnrType       0.004566\nElectrical       0.000761\nFunctional       0.000000\nKitchenQual      0.000000\nCentralAir       0.000000\nHeatingQC        0.000000\nHeating          0.000000\nPavedDrive       0.000000\nSaleType         0.000000\nMSZoning         0.000000\nStreet           0.000000\nCondition2       0.000000\nLotShape         0.000000\nLandContour      0.000000\nUtilities        0.000000\nLotConfig        0.000000\nLandSlope        0.000000\nNeighborhood     0.000000\nCondition1       0.000000\nBldgType         0.000000\nFoundation       0.000000\nHouseStyle       0.000000\nRoofStyle        0.000000\nRoofMatl         0.000000\nExterior1st      0.000000\nExterior2nd      0.000000\nExterQual        0.000000\nExterCond        0.000000\nSaleCondition    0.000000\ndtype: float64"
     },
     "execution_count": 21,
     "metadata": {},
     "output_type": "execute_result"
    },
    {
     "name": "stdout",
     "output_type": "stream",
     "text": [
      "time: 0 ns (started: 2022-10-05 19:05:05 +02:00)\n"
     ]
    }
   ],
   "source": [
    "# check for missing values in our categorical variables\n",
    "\n",
    "X_train[vars_cat].isnull().mean().sort_values(ascending=False)"
   ],
   "metadata": {
    "collapsed": false
   }
  },
  {
   "cell_type": "code",
   "execution_count": 22,
   "outputs": [
    {
     "data": {
      "text/plain": "LotFrontage      0.177321\nMasVnrArea       0.004566\nOpenPorchSF      0.000000\nKitchenAbvGr     0.000000\nTotRmsAbvGrd     0.000000\nFireplaces       0.000000\nGarageCars       0.000000\nGarageArea       0.000000\nWoodDeckSF       0.000000\nMSSubClass       0.000000\nBedroomAbvGr     0.000000\n3SsnPorch        0.000000\nScreenPorch      0.000000\nPoolArea         0.000000\nMiscVal          0.000000\nMoSold           0.000000\nEnclosedPorch    0.000000\nFullBath         0.000000\nHalfBath         0.000000\nBsmtHalfBath     0.000000\nBsmtFullBath     0.000000\nGrLivArea        0.000000\nLowQualFinSF     0.000000\n2ndFlrSF         0.000000\n1stFlrSF         0.000000\nTotalBsmtSF      0.000000\nBsmtUnfSF        0.000000\nBsmtFinSF2       0.000000\nBsmtFinSF1       0.000000\nOverallCond      0.000000\nOverallQual      0.000000\nLotArea          0.000000\nYrSold           0.000000\ndtype: float64"
     },
     "execution_count": 22,
     "metadata": {},
     "output_type": "execute_result"
    },
    {
     "name": "stdout",
     "output_type": "stream",
     "text": [
      "time: 0 ns (started: 2022-10-05 19:05:05 +02:00)\n"
     ]
    }
   ],
   "source": [
    "# check for missing values in our numerical variables\n",
    "\n",
    "X_train[vars_num].isnull().mean().sort_values(ascending=False)"
   ],
   "metadata": {
    "collapsed": false
   }
  },
  {
   "cell_type": "code",
   "execution_count": 23,
   "outputs": [
    {
     "data": {
      "text/plain": "dtype('float64')"
     },
     "execution_count": 23,
     "metadata": {},
     "output_type": "execute_result"
    },
    {
     "name": "stdout",
     "output_type": "stream",
     "text": [
      "time: 0 ns (started: 2022-10-05 19:05:06 +02:00)\n"
     ]
    }
   ],
   "source": [
    "X_train['LotFrontage'].dtypes"
   ],
   "metadata": {
    "collapsed": false
   }
  },
  {
   "cell_type": "code",
   "execution_count": 24,
   "metadata": {
    "scrolled": true
   },
   "outputs": [
    {
     "name": "stdout",
     "output_type": "stream",
     "text": [
      "time: 31 ms (started: 2022-10-05 19:05:06 +02:00)\n"
     ]
    }
   ],
   "source": [
    "# removing missing data\n",
    "# --------------------\n",
    "# imputation numerical variables\n",
    "imputer = SimpleImputer(strategy='constant', fill_value=-1)\n",
    "X_train['LotFrontage'] = imputer.fit_transform(X_train['LotFrontage'].to_frame())\n",
    "X_test['LotFrontage'] = imputer.transform(X_test['LotFrontage'].to_frame())\n",
    "\n",
    "imputer = SimpleImputer(strategy='most_frequent')\n",
    "X_train[vars_num] = imputer.fit_transform(X_train[vars_num])\n",
    "X_test[vars_num] = imputer.transform(X_test[vars_num])\n",
    "X_train[vars_dates] = imputer.fit_transform(X_train[vars_dates])\n",
    "X_test[vars_dates] = imputer.transform(X_test[vars_dates])"
   ]
  },
  {
   "cell_type": "code",
   "execution_count": 25,
   "metadata": {},
   "outputs": [
    {
     "name": "stdout",
     "output_type": "stream",
     "text": [
      "time: 15 ms (started: 2022-10-05 19:05:06 +02:00)\n"
     ]
    }
   ],
   "source": [
    "# imputation categorical variables\n",
    "imputer = SimpleImputer(strategy='constant', fill_value='missing')\n",
    "X_train[vars_cat] = imputer.fit_transform(X_train[vars_cat])\n",
    "X_test[vars_cat] = imputer.transform(X_test[vars_cat])"
   ]
  },
  {
   "cell_type": "markdown",
   "metadata": {},
   "source": [
    "### Temporal variables"
   ]
  },
  {
   "cell_type": "code",
   "execution_count": 26,
   "metadata": {},
   "outputs": [
    {
     "name": "stdout",
     "output_type": "stream",
     "text": [
      "time: 0 ns (started: 2022-10-05 19:05:07 +02:00)\n"
     ]
    }
   ],
   "source": [
    "# let's create new temporal features from our date variables\n",
    "\n",
    "\n",
    "def elapsed_years(df, var):\n",
    "    # capture difference between year variable and year the house was sold\n",
    "    df[var] = df['YrSold'] - df[var]\n",
    "    return df"
   ]
  },
  {
   "cell_type": "code",
   "execution_count": 27,
   "metadata": {},
   "outputs": [
    {
     "data": {
      "text/plain": "        Id  MSSubClass MSZoning  LotFrontage  LotArea Street    Alley  \\\n529    530        20.0       RL         -1.0  32668.0   Pave  missing   \n491    492        50.0       RL         79.0   9490.0   Pave  missing   \n459    460        50.0       RL         -1.0   7015.0   Pave  missing   \n279    280        60.0       RL         83.0  10005.0   Pave  missing   \n655    656       160.0       RM         21.0   1680.0   Pave  missing   \n1013  1014        30.0       RM         60.0   7200.0   Pave  missing   \n1403  1404        20.0       RL         49.0  15256.0   Pave  missing   \n601    602        50.0       RM         50.0   9000.0   Pave  missing   \n1182  1183        60.0       RL        160.0  15623.0   Pave  missing   \n687    688       160.0       FV         -1.0   5105.0   Pave  missing   \n\n     LotShape LandContour Utilities LotConfig LandSlope Neighborhood  \\\n529       IR1         Lvl    AllPub   CulDSac       Gtl      Crawfor   \n491       Reg         Lvl    AllPub    Inside       Gtl        NAmes   \n459       IR1         Bnk    AllPub    Corner       Gtl      BrkSide   \n279       Reg         Lvl    AllPub    Inside       Gtl      ClearCr   \n655       Reg         Lvl    AllPub    Inside       Gtl       BrDale   \n1013      Reg         Lvl    AllPub    Inside       Gtl      OldTown   \n1403      IR1         Lvl    AllPub   CulDSac       Gtl      Somerst   \n601       Reg         Bnk    AllPub    Inside       Gtl       IDOTRR   \n1182      IR1         Lvl    AllPub    Corner       Gtl      NoRidge   \n687       IR2         Lvl    AllPub       FR2       Gtl      Somerst   \n\n     Condition1 Condition2 BldgType HouseStyle  OverallQual  OverallCond  \\\n529        Norm       Norm     1Fam     1Story          6.0          3.0   \n491      Artery       Norm     1Fam     1.5Fin          6.0          7.0   \n459        Norm       Norm     1Fam     1.5Fin          5.0          4.0   \n279        Norm       Norm     1Fam     2Story          7.0          5.0   \n655        Norm       Norm    Twnhs     2Story          6.0          5.0   \n1013       Norm       Norm     1Fam     1Story          5.0          4.0   \n1403       RRAn       Norm     1Fam     1Story          8.0          5.0   \n601        Norm       Norm     1Fam     1.5Fin          6.0          6.0   \n1182       Norm       Norm     1Fam     2Story         10.0          5.0   \n687        Norm       Norm   TwnhsE     2Story          7.0          5.0   \n\n      YearBuilt  YearRemodAdd RoofStyle RoofMatl Exterior1st Exterior2nd  \\\n529        50.0          32.0       Hip  CompShg     Wd Sdng       Stone   \n491        65.0          56.0     Gable  CompShg     Wd Sdng     Wd Sdng   \n459        59.0          59.0     Gable  CompShg     MetalSd     MetalSd   \n279        31.0          31.0       Hip  CompShg     Plywood     Plywood   \n655        39.0          39.0     Gable  CompShg     HdBoard     ImStucc   \n1013       99.0           3.0       Hip  CompShg     MetalSd      Stucco   \n1403        0.0           0.0     Gable  CompShg     VinylSd     VinylSd   \n601        70.0          57.0     Gable  CompShg     Wd Sdng     Wd Sdng   \n1182       11.0          11.0       Hip  CompShg     Wd Sdng     ImStucc   \n687         3.0           3.0     Gable  CompShg     MetalSd     MetalSd   \n\n     MasVnrType  MasVnrArea ExterQual ExterCond Foundation BsmtQual BsmtCond  \\\n529     missing         0.0        Gd        TA      PConc       TA       TA   \n491        None         0.0        TA        TA     CBlock       TA       TA   \n459      BrkCmn       161.0        TA        TA     CBlock       TA       TA   \n279     BrkFace       299.0        TA        TA     CBlock       Gd       TA   \n655     BrkFace       381.0        TA        TA     CBlock       TA       TA   \n1013       None         0.0        TA        TA     BrkTil       TA       TA   \n1403      Stone        84.0        Gd        TA      PConc       Gd       TA   \n601        None         0.0        TA        Gd      PConc       TA       TA   \n1182       None         0.0        Gd        TA      PConc       Ex       TA   \n687        None         0.0        Gd        TA      PConc       Gd       TA   \n\n     BsmtExposure BsmtFinType1  BsmtFinSF1 BsmtFinType2  BsmtFinSF2  \\\n529            No          Rec      1219.0          Unf         0.0   \n491            No          BLQ       403.0          Rec       165.0   \n459            No          LwQ       185.0          Unf         0.0   \n279            No          BLQ       392.0          Unf         0.0   \n655            No          Unf         0.0          Unf         0.0   \n1013           No          ALQ       247.0          Rec       465.0   \n1403           Gd          GLQ       929.0          Unf         0.0   \n601            No          Unf         0.0          Unf         0.0   \n1182           Av          GLQ      2096.0          Unf         0.0   \n687            No          GLQ       239.0          Unf         0.0   \n\n      BsmtUnfSF  TotalBsmtSF Heating HeatingQC CentralAir Electrical  \\\n529       816.0       2035.0    GasA        TA          Y      SBrkr   \n491       238.0        806.0    GasA        TA          Y      FuseA   \n459       524.0        709.0    GasA        TA          Y      SBrkr   \n279       768.0       1160.0    GasA        Ex          Y      SBrkr   \n655       525.0        525.0    GasA        TA          Y      SBrkr   \n1013      310.0       1022.0    GasW        TA          N      SBrkr   \n1403      556.0       1485.0    GasA        Ex          Y      SBrkr   \n601       780.0        780.0    GasA        TA          Y      SBrkr   \n1182      300.0       2396.0    GasA        Ex          Y      SBrkr   \n687       312.0        551.0    GasA        Ex          Y      SBrkr   \n\n      1stFlrSF  2ndFlrSF  LowQualFinSF  GrLivArea  BsmtFullBath  BsmtHalfBath  \\\n529     2515.0       0.0           0.0     2515.0           1.0           0.0   \n491      958.0     620.0           0.0     1578.0           1.0           0.0   \n459      979.0     224.0           0.0     1203.0           1.0           0.0   \n279     1156.0     866.0           0.0     2022.0           0.0           0.0   \n655      525.0     567.0           0.0     1092.0           0.0           0.0   \n1013    1022.0       0.0           0.0     1022.0           1.0           0.0   \n1403    1464.0       0.0           0.0     1464.0           1.0           0.0   \n601      780.0     595.0           0.0     1375.0           0.0           0.0   \n1182    2411.0    2065.0           0.0     4476.0           1.0           0.0   \n687      551.0     551.0           0.0     1102.0           0.0           0.0   \n\n      FullBath  HalfBath  BedroomAbvGr  KitchenAbvGr KitchenQual  \\\n529        3.0       0.0           4.0           2.0          TA   \n491        1.0       0.0           3.0           1.0          Fa   \n459        1.0       0.0           3.0           1.0          Gd   \n279        2.0       1.0           4.0           1.0          TA   \n655        1.0       1.0           3.0           1.0          TA   \n1013       1.0       0.0           2.0           1.0          TA   \n1403       2.0       0.0           3.0           1.0          Gd   \n601        1.0       1.0           3.0           1.0          Gd   \n1182       3.0       1.0           4.0           1.0          Ex   \n687        2.0       1.0           2.0           1.0          Gd   \n\n      TotRmsAbvGrd Functional  Fireplaces FireplaceQu GarageType  GarageYrBlt  \\\n529            9.0       Maj1         2.0          TA     Attchd         32.0   \n491            5.0        Typ         2.0          TA     Attchd         65.0   \n459            5.0        Typ         1.0          TA     Detchd         59.0   \n279            8.0        Typ         1.0          TA     Attchd         31.0   \n655            6.0        Typ         0.0     missing     Detchd         39.0   \n1013           4.0       Maj2         0.0     missing     Detchd         53.0   \n1403           6.0        Typ         0.0     missing     Attchd          0.0   \n601            6.0        Typ         1.0          Gd     Detchd         28.0   \n1182          10.0        Typ         2.0          TA     Attchd         11.0   \n687            4.0        Typ         0.0     missing     Detchd          3.0   \n\n     GarageFinish  GarageCars  GarageArea GarageQual GarageCond PavedDrive  \\\n529           RFn         2.0       484.0         TA         TA          Y   \n491           Unf         1.0       240.0         TA         TA          Y   \n459           Unf         1.0       352.0         TA         TA          Y   \n279           Fin         2.0       505.0         TA         TA          Y   \n655           Unf         1.0       264.0         TA         TA          Y   \n1013          Unf         1.0       280.0         TA         TA          Y   \n1403          Unf         3.0       754.0         TA         TA          Y   \n601           Unf         1.0       544.0         TA         TA          P   \n1182          Fin         3.0       813.0         TA         TA          Y   \n687           Unf         2.0       480.0         TA         TA          Y   \n\n      WoodDeckSF  OpenPorchSF  EnclosedPorch  3SsnPorch  ScreenPorch  \\\n529          0.0          0.0          200.0        0.0          0.0   \n491          0.0          0.0           32.0        0.0          0.0   \n459          0.0          0.0          248.0        0.0          0.0   \n279        288.0        117.0            0.0        0.0          0.0   \n655          0.0          0.0            0.0        0.0          0.0   \n1013         0.0         30.0          226.0        0.0          0.0   \n1403       168.0        160.0            0.0        0.0          0.0   \n601          0.0        162.0            0.0        0.0        126.0   \n1182       171.0         78.0            0.0        0.0          0.0   \n687          0.0         60.0            0.0        0.0          0.0   \n\n      PoolArea   PoolQC    Fence MiscFeature  MiscVal  MoSold  YrSold  \\\n529        0.0  missing  missing     missing      0.0     3.0  2007.0   \n491        0.0  missing    MnPrv     missing      0.0     8.0  2006.0   \n459        0.0  missing  missing     missing      0.0     7.0  2009.0   \n279        0.0  missing  missing     missing      0.0     3.0  2008.0   \n655        0.0  missing  missing     missing      0.0     3.0  2010.0   \n1013       0.0  missing  missing     missing      0.0     6.0  2009.0   \n1403       0.0  missing  missing     missing      0.0     8.0  2007.0   \n601        0.0  missing  missing     missing      0.0    12.0  2007.0   \n1182     555.0       Ex    MnPrv     missing      0.0     7.0  2007.0   \n687        0.0  missing  missing     missing      0.0     3.0  2007.0   \n\n     SaleType SaleCondition  \n529        WD        Alloca  \n491        WD        Normal  \n459        WD        Normal  \n279        WD        Normal  \n655        WD        Family  \n1013       WD        Normal  \n1403       WD        Normal  \n601        WD        Normal  \n1182       WD       Abnorml  \n687        WD        Normal  ",
      "text/html": "<div>\n<style scoped>\n    .dataframe tbody tr th:only-of-type {\n        vertical-align: middle;\n    }\n\n    .dataframe tbody tr th {\n        vertical-align: top;\n    }\n\n    .dataframe thead th {\n        text-align: right;\n    }\n</style>\n<table border=\"1\" class=\"dataframe\">\n  <thead>\n    <tr style=\"text-align: right;\">\n      <th></th>\n      <th>Id</th>\n      <th>MSSubClass</th>\n      <th>MSZoning</th>\n      <th>LotFrontage</th>\n      <th>LotArea</th>\n      <th>Street</th>\n      <th>Alley</th>\n      <th>LotShape</th>\n      <th>LandContour</th>\n      <th>Utilities</th>\n      <th>LotConfig</th>\n      <th>LandSlope</th>\n      <th>Neighborhood</th>\n      <th>Condition1</th>\n      <th>Condition2</th>\n      <th>BldgType</th>\n      <th>HouseStyle</th>\n      <th>OverallQual</th>\n      <th>OverallCond</th>\n      <th>YearBuilt</th>\n      <th>YearRemodAdd</th>\n      <th>RoofStyle</th>\n      <th>RoofMatl</th>\n      <th>Exterior1st</th>\n      <th>Exterior2nd</th>\n      <th>MasVnrType</th>\n      <th>MasVnrArea</th>\n      <th>ExterQual</th>\n      <th>ExterCond</th>\n      <th>Foundation</th>\n      <th>BsmtQual</th>\n      <th>BsmtCond</th>\n      <th>BsmtExposure</th>\n      <th>BsmtFinType1</th>\n      <th>BsmtFinSF1</th>\n      <th>BsmtFinType2</th>\n      <th>BsmtFinSF2</th>\n      <th>BsmtUnfSF</th>\n      <th>TotalBsmtSF</th>\n      <th>Heating</th>\n      <th>HeatingQC</th>\n      <th>CentralAir</th>\n      <th>Electrical</th>\n      <th>1stFlrSF</th>\n      <th>2ndFlrSF</th>\n      <th>LowQualFinSF</th>\n      <th>GrLivArea</th>\n      <th>BsmtFullBath</th>\n      <th>BsmtHalfBath</th>\n      <th>FullBath</th>\n      <th>HalfBath</th>\n      <th>BedroomAbvGr</th>\n      <th>KitchenAbvGr</th>\n      <th>KitchenQual</th>\n      <th>TotRmsAbvGrd</th>\n      <th>Functional</th>\n      <th>Fireplaces</th>\n      <th>FireplaceQu</th>\n      <th>GarageType</th>\n      <th>GarageYrBlt</th>\n      <th>GarageFinish</th>\n      <th>GarageCars</th>\n      <th>GarageArea</th>\n      <th>GarageQual</th>\n      <th>GarageCond</th>\n      <th>PavedDrive</th>\n      <th>WoodDeckSF</th>\n      <th>OpenPorchSF</th>\n      <th>EnclosedPorch</th>\n      <th>3SsnPorch</th>\n      <th>ScreenPorch</th>\n      <th>PoolArea</th>\n      <th>PoolQC</th>\n      <th>Fence</th>\n      <th>MiscFeature</th>\n      <th>MiscVal</th>\n      <th>MoSold</th>\n      <th>YrSold</th>\n      <th>SaleType</th>\n      <th>SaleCondition</th>\n    </tr>\n  </thead>\n  <tbody>\n    <tr>\n      <th>529</th>\n      <td>530</td>\n      <td>20.0</td>\n      <td>RL</td>\n      <td>-1.0</td>\n      <td>32668.0</td>\n      <td>Pave</td>\n      <td>missing</td>\n      <td>IR1</td>\n      <td>Lvl</td>\n      <td>AllPub</td>\n      <td>CulDSac</td>\n      <td>Gtl</td>\n      <td>Crawfor</td>\n      <td>Norm</td>\n      <td>Norm</td>\n      <td>1Fam</td>\n      <td>1Story</td>\n      <td>6.0</td>\n      <td>3.0</td>\n      <td>50.0</td>\n      <td>32.0</td>\n      <td>Hip</td>\n      <td>CompShg</td>\n      <td>Wd Sdng</td>\n      <td>Stone</td>\n      <td>missing</td>\n      <td>0.0</td>\n      <td>Gd</td>\n      <td>TA</td>\n      <td>PConc</td>\n      <td>TA</td>\n      <td>TA</td>\n      <td>No</td>\n      <td>Rec</td>\n      <td>1219.0</td>\n      <td>Unf</td>\n      <td>0.0</td>\n      <td>816.0</td>\n      <td>2035.0</td>\n      <td>GasA</td>\n      <td>TA</td>\n      <td>Y</td>\n      <td>SBrkr</td>\n      <td>2515.0</td>\n      <td>0.0</td>\n      <td>0.0</td>\n      <td>2515.0</td>\n      <td>1.0</td>\n      <td>0.0</td>\n      <td>3.0</td>\n      <td>0.0</td>\n      <td>4.0</td>\n      <td>2.0</td>\n      <td>TA</td>\n      <td>9.0</td>\n      <td>Maj1</td>\n      <td>2.0</td>\n      <td>TA</td>\n      <td>Attchd</td>\n      <td>32.0</td>\n      <td>RFn</td>\n      <td>2.0</td>\n      <td>484.0</td>\n      <td>TA</td>\n      <td>TA</td>\n      <td>Y</td>\n      <td>0.0</td>\n      <td>0.0</td>\n      <td>200.0</td>\n      <td>0.0</td>\n      <td>0.0</td>\n      <td>0.0</td>\n      <td>missing</td>\n      <td>missing</td>\n      <td>missing</td>\n      <td>0.0</td>\n      <td>3.0</td>\n      <td>2007.0</td>\n      <td>WD</td>\n      <td>Alloca</td>\n    </tr>\n    <tr>\n      <th>491</th>\n      <td>492</td>\n      <td>50.0</td>\n      <td>RL</td>\n      <td>79.0</td>\n      <td>9490.0</td>\n      <td>Pave</td>\n      <td>missing</td>\n      <td>Reg</td>\n      <td>Lvl</td>\n      <td>AllPub</td>\n      <td>Inside</td>\n      <td>Gtl</td>\n      <td>NAmes</td>\n      <td>Artery</td>\n      <td>Norm</td>\n      <td>1Fam</td>\n      <td>1.5Fin</td>\n      <td>6.0</td>\n      <td>7.0</td>\n      <td>65.0</td>\n      <td>56.0</td>\n      <td>Gable</td>\n      <td>CompShg</td>\n      <td>Wd Sdng</td>\n      <td>Wd Sdng</td>\n      <td>None</td>\n      <td>0.0</td>\n      <td>TA</td>\n      <td>TA</td>\n      <td>CBlock</td>\n      <td>TA</td>\n      <td>TA</td>\n      <td>No</td>\n      <td>BLQ</td>\n      <td>403.0</td>\n      <td>Rec</td>\n      <td>165.0</td>\n      <td>238.0</td>\n      <td>806.0</td>\n      <td>GasA</td>\n      <td>TA</td>\n      <td>Y</td>\n      <td>FuseA</td>\n      <td>958.0</td>\n      <td>620.0</td>\n      <td>0.0</td>\n      <td>1578.0</td>\n      <td>1.0</td>\n      <td>0.0</td>\n      <td>1.0</td>\n      <td>0.0</td>\n      <td>3.0</td>\n      <td>1.0</td>\n      <td>Fa</td>\n      <td>5.0</td>\n      <td>Typ</td>\n      <td>2.0</td>\n      <td>TA</td>\n      <td>Attchd</td>\n      <td>65.0</td>\n      <td>Unf</td>\n      <td>1.0</td>\n      <td>240.0</td>\n      <td>TA</td>\n      <td>TA</td>\n      <td>Y</td>\n      <td>0.0</td>\n      <td>0.0</td>\n      <td>32.0</td>\n      <td>0.0</td>\n      <td>0.0</td>\n      <td>0.0</td>\n      <td>missing</td>\n      <td>MnPrv</td>\n      <td>missing</td>\n      <td>0.0</td>\n      <td>8.0</td>\n      <td>2006.0</td>\n      <td>WD</td>\n      <td>Normal</td>\n    </tr>\n    <tr>\n      <th>459</th>\n      <td>460</td>\n      <td>50.0</td>\n      <td>RL</td>\n      <td>-1.0</td>\n      <td>7015.0</td>\n      <td>Pave</td>\n      <td>missing</td>\n      <td>IR1</td>\n      <td>Bnk</td>\n      <td>AllPub</td>\n      <td>Corner</td>\n      <td>Gtl</td>\n      <td>BrkSide</td>\n      <td>Norm</td>\n      <td>Norm</td>\n      <td>1Fam</td>\n      <td>1.5Fin</td>\n      <td>5.0</td>\n      <td>4.0</td>\n      <td>59.0</td>\n      <td>59.0</td>\n      <td>Gable</td>\n      <td>CompShg</td>\n      <td>MetalSd</td>\n      <td>MetalSd</td>\n      <td>BrkCmn</td>\n      <td>161.0</td>\n      <td>TA</td>\n      <td>TA</td>\n      <td>CBlock</td>\n      <td>TA</td>\n      <td>TA</td>\n      <td>No</td>\n      <td>LwQ</td>\n      <td>185.0</td>\n      <td>Unf</td>\n      <td>0.0</td>\n      <td>524.0</td>\n      <td>709.0</td>\n      <td>GasA</td>\n      <td>TA</td>\n      <td>Y</td>\n      <td>SBrkr</td>\n      <td>979.0</td>\n      <td>224.0</td>\n      <td>0.0</td>\n      <td>1203.0</td>\n      <td>1.0</td>\n      <td>0.0</td>\n      <td>1.0</td>\n      <td>0.0</td>\n      <td>3.0</td>\n      <td>1.0</td>\n      <td>Gd</td>\n      <td>5.0</td>\n      <td>Typ</td>\n      <td>1.0</td>\n      <td>TA</td>\n      <td>Detchd</td>\n      <td>59.0</td>\n      <td>Unf</td>\n      <td>1.0</td>\n      <td>352.0</td>\n      <td>TA</td>\n      <td>TA</td>\n      <td>Y</td>\n      <td>0.0</td>\n      <td>0.0</td>\n      <td>248.0</td>\n      <td>0.0</td>\n      <td>0.0</td>\n      <td>0.0</td>\n      <td>missing</td>\n      <td>missing</td>\n      <td>missing</td>\n      <td>0.0</td>\n      <td>7.0</td>\n      <td>2009.0</td>\n      <td>WD</td>\n      <td>Normal</td>\n    </tr>\n    <tr>\n      <th>279</th>\n      <td>280</td>\n      <td>60.0</td>\n      <td>RL</td>\n      <td>83.0</td>\n      <td>10005.0</td>\n      <td>Pave</td>\n      <td>missing</td>\n      <td>Reg</td>\n      <td>Lvl</td>\n      <td>AllPub</td>\n      <td>Inside</td>\n      <td>Gtl</td>\n      <td>ClearCr</td>\n      <td>Norm</td>\n      <td>Norm</td>\n      <td>1Fam</td>\n      <td>2Story</td>\n      <td>7.0</td>\n      <td>5.0</td>\n      <td>31.0</td>\n      <td>31.0</td>\n      <td>Hip</td>\n      <td>CompShg</td>\n      <td>Plywood</td>\n      <td>Plywood</td>\n      <td>BrkFace</td>\n      <td>299.0</td>\n      <td>TA</td>\n      <td>TA</td>\n      <td>CBlock</td>\n      <td>Gd</td>\n      <td>TA</td>\n      <td>No</td>\n      <td>BLQ</td>\n      <td>392.0</td>\n      <td>Unf</td>\n      <td>0.0</td>\n      <td>768.0</td>\n      <td>1160.0</td>\n      <td>GasA</td>\n      <td>Ex</td>\n      <td>Y</td>\n      <td>SBrkr</td>\n      <td>1156.0</td>\n      <td>866.0</td>\n      <td>0.0</td>\n      <td>2022.0</td>\n      <td>0.0</td>\n      <td>0.0</td>\n      <td>2.0</td>\n      <td>1.0</td>\n      <td>4.0</td>\n      <td>1.0</td>\n      <td>TA</td>\n      <td>8.0</td>\n      <td>Typ</td>\n      <td>1.0</td>\n      <td>TA</td>\n      <td>Attchd</td>\n      <td>31.0</td>\n      <td>Fin</td>\n      <td>2.0</td>\n      <td>505.0</td>\n      <td>TA</td>\n      <td>TA</td>\n      <td>Y</td>\n      <td>288.0</td>\n      <td>117.0</td>\n      <td>0.0</td>\n      <td>0.0</td>\n      <td>0.0</td>\n      <td>0.0</td>\n      <td>missing</td>\n      <td>missing</td>\n      <td>missing</td>\n      <td>0.0</td>\n      <td>3.0</td>\n      <td>2008.0</td>\n      <td>WD</td>\n      <td>Normal</td>\n    </tr>\n    <tr>\n      <th>655</th>\n      <td>656</td>\n      <td>160.0</td>\n      <td>RM</td>\n      <td>21.0</td>\n      <td>1680.0</td>\n      <td>Pave</td>\n      <td>missing</td>\n      <td>Reg</td>\n      <td>Lvl</td>\n      <td>AllPub</td>\n      <td>Inside</td>\n      <td>Gtl</td>\n      <td>BrDale</td>\n      <td>Norm</td>\n      <td>Norm</td>\n      <td>Twnhs</td>\n      <td>2Story</td>\n      <td>6.0</td>\n      <td>5.0</td>\n      <td>39.0</td>\n      <td>39.0</td>\n      <td>Gable</td>\n      <td>CompShg</td>\n      <td>HdBoard</td>\n      <td>ImStucc</td>\n      <td>BrkFace</td>\n      <td>381.0</td>\n      <td>TA</td>\n      <td>TA</td>\n      <td>CBlock</td>\n      <td>TA</td>\n      <td>TA</td>\n      <td>No</td>\n      <td>Unf</td>\n      <td>0.0</td>\n      <td>Unf</td>\n      <td>0.0</td>\n      <td>525.0</td>\n      <td>525.0</td>\n      <td>GasA</td>\n      <td>TA</td>\n      <td>Y</td>\n      <td>SBrkr</td>\n      <td>525.0</td>\n      <td>567.0</td>\n      <td>0.0</td>\n      <td>1092.0</td>\n      <td>0.0</td>\n      <td>0.0</td>\n      <td>1.0</td>\n      <td>1.0</td>\n      <td>3.0</td>\n      <td>1.0</td>\n      <td>TA</td>\n      <td>6.0</td>\n      <td>Typ</td>\n      <td>0.0</td>\n      <td>missing</td>\n      <td>Detchd</td>\n      <td>39.0</td>\n      <td>Unf</td>\n      <td>1.0</td>\n      <td>264.0</td>\n      <td>TA</td>\n      <td>TA</td>\n      <td>Y</td>\n      <td>0.0</td>\n      <td>0.0</td>\n      <td>0.0</td>\n      <td>0.0</td>\n      <td>0.0</td>\n      <td>0.0</td>\n      <td>missing</td>\n      <td>missing</td>\n      <td>missing</td>\n      <td>0.0</td>\n      <td>3.0</td>\n      <td>2010.0</td>\n      <td>WD</td>\n      <td>Family</td>\n    </tr>\n    <tr>\n      <th>1013</th>\n      <td>1014</td>\n      <td>30.0</td>\n      <td>RM</td>\n      <td>60.0</td>\n      <td>7200.0</td>\n      <td>Pave</td>\n      <td>missing</td>\n      <td>Reg</td>\n      <td>Lvl</td>\n      <td>AllPub</td>\n      <td>Inside</td>\n      <td>Gtl</td>\n      <td>OldTown</td>\n      <td>Norm</td>\n      <td>Norm</td>\n      <td>1Fam</td>\n      <td>1Story</td>\n      <td>5.0</td>\n      <td>4.0</td>\n      <td>99.0</td>\n      <td>3.0</td>\n      <td>Hip</td>\n      <td>CompShg</td>\n      <td>MetalSd</td>\n      <td>Stucco</td>\n      <td>None</td>\n      <td>0.0</td>\n      <td>TA</td>\n      <td>TA</td>\n      <td>BrkTil</td>\n      <td>TA</td>\n      <td>TA</td>\n      <td>No</td>\n      <td>ALQ</td>\n      <td>247.0</td>\n      <td>Rec</td>\n      <td>465.0</td>\n      <td>310.0</td>\n      <td>1022.0</td>\n      <td>GasW</td>\n      <td>TA</td>\n      <td>N</td>\n      <td>SBrkr</td>\n      <td>1022.0</td>\n      <td>0.0</td>\n      <td>0.0</td>\n      <td>1022.0</td>\n      <td>1.0</td>\n      <td>0.0</td>\n      <td>1.0</td>\n      <td>0.0</td>\n      <td>2.0</td>\n      <td>1.0</td>\n      <td>TA</td>\n      <td>4.0</td>\n      <td>Maj2</td>\n      <td>0.0</td>\n      <td>missing</td>\n      <td>Detchd</td>\n      <td>53.0</td>\n      <td>Unf</td>\n      <td>1.0</td>\n      <td>280.0</td>\n      <td>TA</td>\n      <td>TA</td>\n      <td>Y</td>\n      <td>0.0</td>\n      <td>30.0</td>\n      <td>226.0</td>\n      <td>0.0</td>\n      <td>0.0</td>\n      <td>0.0</td>\n      <td>missing</td>\n      <td>missing</td>\n      <td>missing</td>\n      <td>0.0</td>\n      <td>6.0</td>\n      <td>2009.0</td>\n      <td>WD</td>\n      <td>Normal</td>\n    </tr>\n    <tr>\n      <th>1403</th>\n      <td>1404</td>\n      <td>20.0</td>\n      <td>RL</td>\n      <td>49.0</td>\n      <td>15256.0</td>\n      <td>Pave</td>\n      <td>missing</td>\n      <td>IR1</td>\n      <td>Lvl</td>\n      <td>AllPub</td>\n      <td>CulDSac</td>\n      <td>Gtl</td>\n      <td>Somerst</td>\n      <td>RRAn</td>\n      <td>Norm</td>\n      <td>1Fam</td>\n      <td>1Story</td>\n      <td>8.0</td>\n      <td>5.0</td>\n      <td>0.0</td>\n      <td>0.0</td>\n      <td>Gable</td>\n      <td>CompShg</td>\n      <td>VinylSd</td>\n      <td>VinylSd</td>\n      <td>Stone</td>\n      <td>84.0</td>\n      <td>Gd</td>\n      <td>TA</td>\n      <td>PConc</td>\n      <td>Gd</td>\n      <td>TA</td>\n      <td>Gd</td>\n      <td>GLQ</td>\n      <td>929.0</td>\n      <td>Unf</td>\n      <td>0.0</td>\n      <td>556.0</td>\n      <td>1485.0</td>\n      <td>GasA</td>\n      <td>Ex</td>\n      <td>Y</td>\n      <td>SBrkr</td>\n      <td>1464.0</td>\n      <td>0.0</td>\n      <td>0.0</td>\n      <td>1464.0</td>\n      <td>1.0</td>\n      <td>0.0</td>\n      <td>2.0</td>\n      <td>0.0</td>\n      <td>3.0</td>\n      <td>1.0</td>\n      <td>Gd</td>\n      <td>6.0</td>\n      <td>Typ</td>\n      <td>0.0</td>\n      <td>missing</td>\n      <td>Attchd</td>\n      <td>0.0</td>\n      <td>Unf</td>\n      <td>3.0</td>\n      <td>754.0</td>\n      <td>TA</td>\n      <td>TA</td>\n      <td>Y</td>\n      <td>168.0</td>\n      <td>160.0</td>\n      <td>0.0</td>\n      <td>0.0</td>\n      <td>0.0</td>\n      <td>0.0</td>\n      <td>missing</td>\n      <td>missing</td>\n      <td>missing</td>\n      <td>0.0</td>\n      <td>8.0</td>\n      <td>2007.0</td>\n      <td>WD</td>\n      <td>Normal</td>\n    </tr>\n    <tr>\n      <th>601</th>\n      <td>602</td>\n      <td>50.0</td>\n      <td>RM</td>\n      <td>50.0</td>\n      <td>9000.0</td>\n      <td>Pave</td>\n      <td>missing</td>\n      <td>Reg</td>\n      <td>Bnk</td>\n      <td>AllPub</td>\n      <td>Inside</td>\n      <td>Gtl</td>\n      <td>IDOTRR</td>\n      <td>Norm</td>\n      <td>Norm</td>\n      <td>1Fam</td>\n      <td>1.5Fin</td>\n      <td>6.0</td>\n      <td>6.0</td>\n      <td>70.0</td>\n      <td>57.0</td>\n      <td>Gable</td>\n      <td>CompShg</td>\n      <td>Wd Sdng</td>\n      <td>Wd Sdng</td>\n      <td>None</td>\n      <td>0.0</td>\n      <td>TA</td>\n      <td>Gd</td>\n      <td>PConc</td>\n      <td>TA</td>\n      <td>TA</td>\n      <td>No</td>\n      <td>Unf</td>\n      <td>0.0</td>\n      <td>Unf</td>\n      <td>0.0</td>\n      <td>780.0</td>\n      <td>780.0</td>\n      <td>GasA</td>\n      <td>TA</td>\n      <td>Y</td>\n      <td>SBrkr</td>\n      <td>780.0</td>\n      <td>595.0</td>\n      <td>0.0</td>\n      <td>1375.0</td>\n      <td>0.0</td>\n      <td>0.0</td>\n      <td>1.0</td>\n      <td>1.0</td>\n      <td>3.0</td>\n      <td>1.0</td>\n      <td>Gd</td>\n      <td>6.0</td>\n      <td>Typ</td>\n      <td>1.0</td>\n      <td>Gd</td>\n      <td>Detchd</td>\n      <td>28.0</td>\n      <td>Unf</td>\n      <td>1.0</td>\n      <td>544.0</td>\n      <td>TA</td>\n      <td>TA</td>\n      <td>P</td>\n      <td>0.0</td>\n      <td>162.0</td>\n      <td>0.0</td>\n      <td>0.0</td>\n      <td>126.0</td>\n      <td>0.0</td>\n      <td>missing</td>\n      <td>missing</td>\n      <td>missing</td>\n      <td>0.0</td>\n      <td>12.0</td>\n      <td>2007.0</td>\n      <td>WD</td>\n      <td>Normal</td>\n    </tr>\n    <tr>\n      <th>1182</th>\n      <td>1183</td>\n      <td>60.0</td>\n      <td>RL</td>\n      <td>160.0</td>\n      <td>15623.0</td>\n      <td>Pave</td>\n      <td>missing</td>\n      <td>IR1</td>\n      <td>Lvl</td>\n      <td>AllPub</td>\n      <td>Corner</td>\n      <td>Gtl</td>\n      <td>NoRidge</td>\n      <td>Norm</td>\n      <td>Norm</td>\n      <td>1Fam</td>\n      <td>2Story</td>\n      <td>10.0</td>\n      <td>5.0</td>\n      <td>11.0</td>\n      <td>11.0</td>\n      <td>Hip</td>\n      <td>CompShg</td>\n      <td>Wd Sdng</td>\n      <td>ImStucc</td>\n      <td>None</td>\n      <td>0.0</td>\n      <td>Gd</td>\n      <td>TA</td>\n      <td>PConc</td>\n      <td>Ex</td>\n      <td>TA</td>\n      <td>Av</td>\n      <td>GLQ</td>\n      <td>2096.0</td>\n      <td>Unf</td>\n      <td>0.0</td>\n      <td>300.0</td>\n      <td>2396.0</td>\n      <td>GasA</td>\n      <td>Ex</td>\n      <td>Y</td>\n      <td>SBrkr</td>\n      <td>2411.0</td>\n      <td>2065.0</td>\n      <td>0.0</td>\n      <td>4476.0</td>\n      <td>1.0</td>\n      <td>0.0</td>\n      <td>3.0</td>\n      <td>1.0</td>\n      <td>4.0</td>\n      <td>1.0</td>\n      <td>Ex</td>\n      <td>10.0</td>\n      <td>Typ</td>\n      <td>2.0</td>\n      <td>TA</td>\n      <td>Attchd</td>\n      <td>11.0</td>\n      <td>Fin</td>\n      <td>3.0</td>\n      <td>813.0</td>\n      <td>TA</td>\n      <td>TA</td>\n      <td>Y</td>\n      <td>171.0</td>\n      <td>78.0</td>\n      <td>0.0</td>\n      <td>0.0</td>\n      <td>0.0</td>\n      <td>555.0</td>\n      <td>Ex</td>\n      <td>MnPrv</td>\n      <td>missing</td>\n      <td>0.0</td>\n      <td>7.0</td>\n      <td>2007.0</td>\n      <td>WD</td>\n      <td>Abnorml</td>\n    </tr>\n    <tr>\n      <th>687</th>\n      <td>688</td>\n      <td>160.0</td>\n      <td>FV</td>\n      <td>-1.0</td>\n      <td>5105.0</td>\n      <td>Pave</td>\n      <td>missing</td>\n      <td>IR2</td>\n      <td>Lvl</td>\n      <td>AllPub</td>\n      <td>FR2</td>\n      <td>Gtl</td>\n      <td>Somerst</td>\n      <td>Norm</td>\n      <td>Norm</td>\n      <td>TwnhsE</td>\n      <td>2Story</td>\n      <td>7.0</td>\n      <td>5.0</td>\n      <td>3.0</td>\n      <td>3.0</td>\n      <td>Gable</td>\n      <td>CompShg</td>\n      <td>MetalSd</td>\n      <td>MetalSd</td>\n      <td>None</td>\n      <td>0.0</td>\n      <td>Gd</td>\n      <td>TA</td>\n      <td>PConc</td>\n      <td>Gd</td>\n      <td>TA</td>\n      <td>No</td>\n      <td>GLQ</td>\n      <td>239.0</td>\n      <td>Unf</td>\n      <td>0.0</td>\n      <td>312.0</td>\n      <td>551.0</td>\n      <td>GasA</td>\n      <td>Ex</td>\n      <td>Y</td>\n      <td>SBrkr</td>\n      <td>551.0</td>\n      <td>551.0</td>\n      <td>0.0</td>\n      <td>1102.0</td>\n      <td>0.0</td>\n      <td>0.0</td>\n      <td>2.0</td>\n      <td>1.0</td>\n      <td>2.0</td>\n      <td>1.0</td>\n      <td>Gd</td>\n      <td>4.0</td>\n      <td>Typ</td>\n      <td>0.0</td>\n      <td>missing</td>\n      <td>Detchd</td>\n      <td>3.0</td>\n      <td>Unf</td>\n      <td>2.0</td>\n      <td>480.0</td>\n      <td>TA</td>\n      <td>TA</td>\n      <td>Y</td>\n      <td>0.0</td>\n      <td>60.0</td>\n      <td>0.0</td>\n      <td>0.0</td>\n      <td>0.0</td>\n      <td>0.0</td>\n      <td>missing</td>\n      <td>missing</td>\n      <td>missing</td>\n      <td>0.0</td>\n      <td>3.0</td>\n      <td>2007.0</td>\n      <td>WD</td>\n      <td>Normal</td>\n    </tr>\n  </tbody>\n</table>\n</div>"
     },
     "execution_count": 27,
     "metadata": {},
     "output_type": "execute_result"
    },
    {
     "name": "stdout",
     "output_type": "stream",
     "text": [
      "time: 62 ms (started: 2022-10-05 19:05:07 +02:00)\n"
     ]
    }
   ],
   "source": [
    "for var in ['YearBuilt', 'YearRemodAdd', 'GarageYrBlt']:\n",
    "    X_train = elapsed_years(X_train, var)\n",
    "    X_test = elapsed_years(X_test, var)\n",
    "\n",
    "X_test.head(10)\n"
   ]
  },
  {
   "cell_type": "code",
   "execution_count": 28,
   "metadata": {},
   "outputs": [
    {
     "data": {
      "text/plain": "[]"
     },
     "execution_count": 28,
     "metadata": {},
     "output_type": "execute_result"
    },
    {
     "name": "stdout",
     "output_type": "stream",
     "text": [
      "time: 0 ns (started: 2022-10-05 19:05:09 +02:00)\n"
     ]
    }
   ],
   "source": [
    "# check that test set does not contain null values in the engineered variables\n",
    "[var for var in ['YearBuilt', 'YearRemodAdd', 'GarageYrBlt'] if X_test[var].isnull().sum() > 0]"
   ]
  },
  {
   "cell_type": "code",
   "execution_count": 29,
   "outputs": [
    {
     "data": {
      "text/plain": "Empty DataFrame\nColumns: [Id, MSSubClass, MSZoning, LotFrontage, LotArea, Street, Alley, LotShape, LandContour, Utilities, LotConfig, LandSlope, Neighborhood, Condition1, Condition2, BldgType, HouseStyle, OverallQual, OverallCond, YearBuilt, YearRemodAdd, RoofStyle, RoofMatl, Exterior1st, Exterior2nd, MasVnrType, MasVnrArea, ExterQual, ExterCond, Foundation, BsmtQual, BsmtCond, BsmtExposure, BsmtFinType1, BsmtFinSF1, BsmtFinType2, BsmtFinSF2, BsmtUnfSF, TotalBsmtSF, Heating, HeatingQC, CentralAir, Electrical, 1stFlrSF, 2ndFlrSF, LowQualFinSF, GrLivArea, BsmtFullBath, BsmtHalfBath, FullBath, HalfBath, BedroomAbvGr, KitchenAbvGr, KitchenQual, TotRmsAbvGrd, Functional, Fireplaces, FireplaceQu, GarageType, GarageYrBlt, GarageFinish, GarageCars, GarageArea, GarageQual, GarageCond, PavedDrive, WoodDeckSF, OpenPorchSF, EnclosedPorch, 3SsnPorch, ScreenPorch, PoolArea, PoolQC, Fence, MiscFeature, MiscVal, MoSold, YrSold, SaleType, SaleCondition]\nIndex: []",
      "text/html": "<div>\n<style scoped>\n    .dataframe tbody tr th:only-of-type {\n        vertical-align: middle;\n    }\n\n    .dataframe tbody tr th {\n        vertical-align: top;\n    }\n\n    .dataframe thead th {\n        text-align: right;\n    }\n</style>\n<table border=\"1\" class=\"dataframe\">\n  <thead>\n    <tr style=\"text-align: right;\">\n      <th></th>\n      <th>Id</th>\n      <th>MSSubClass</th>\n      <th>MSZoning</th>\n      <th>LotFrontage</th>\n      <th>LotArea</th>\n      <th>Street</th>\n      <th>Alley</th>\n      <th>LotShape</th>\n      <th>LandContour</th>\n      <th>Utilities</th>\n      <th>LotConfig</th>\n      <th>LandSlope</th>\n      <th>Neighborhood</th>\n      <th>Condition1</th>\n      <th>Condition2</th>\n      <th>BldgType</th>\n      <th>HouseStyle</th>\n      <th>OverallQual</th>\n      <th>OverallCond</th>\n      <th>YearBuilt</th>\n      <th>YearRemodAdd</th>\n      <th>RoofStyle</th>\n      <th>RoofMatl</th>\n      <th>Exterior1st</th>\n      <th>Exterior2nd</th>\n      <th>MasVnrType</th>\n      <th>MasVnrArea</th>\n      <th>ExterQual</th>\n      <th>ExterCond</th>\n      <th>Foundation</th>\n      <th>BsmtQual</th>\n      <th>BsmtCond</th>\n      <th>BsmtExposure</th>\n      <th>BsmtFinType1</th>\n      <th>BsmtFinSF1</th>\n      <th>BsmtFinType2</th>\n      <th>BsmtFinSF2</th>\n      <th>BsmtUnfSF</th>\n      <th>TotalBsmtSF</th>\n      <th>Heating</th>\n      <th>HeatingQC</th>\n      <th>CentralAir</th>\n      <th>Electrical</th>\n      <th>1stFlrSF</th>\n      <th>2ndFlrSF</th>\n      <th>LowQualFinSF</th>\n      <th>GrLivArea</th>\n      <th>BsmtFullBath</th>\n      <th>BsmtHalfBath</th>\n      <th>FullBath</th>\n      <th>HalfBath</th>\n      <th>BedroomAbvGr</th>\n      <th>KitchenAbvGr</th>\n      <th>KitchenQual</th>\n      <th>TotRmsAbvGrd</th>\n      <th>Functional</th>\n      <th>Fireplaces</th>\n      <th>FireplaceQu</th>\n      <th>GarageType</th>\n      <th>GarageYrBlt</th>\n      <th>GarageFinish</th>\n      <th>GarageCars</th>\n      <th>GarageArea</th>\n      <th>GarageQual</th>\n      <th>GarageCond</th>\n      <th>PavedDrive</th>\n      <th>WoodDeckSF</th>\n      <th>OpenPorchSF</th>\n      <th>EnclosedPorch</th>\n      <th>3SsnPorch</th>\n      <th>ScreenPorch</th>\n      <th>PoolArea</th>\n      <th>PoolQC</th>\n      <th>Fence</th>\n      <th>MiscFeature</th>\n      <th>MiscVal</th>\n      <th>MoSold</th>\n      <th>YrSold</th>\n      <th>SaleType</th>\n      <th>SaleCondition</th>\n    </tr>\n  </thead>\n  <tbody>\n  </tbody>\n</table>\n</div>"
     },
     "execution_count": 29,
     "metadata": {},
     "output_type": "execute_result"
    },
    {
     "name": "stdout",
     "output_type": "stream",
     "text": [
      "time: 15 ms (started: 2022-10-05 19:05:09 +02:00)\n"
     ]
    }
   ],
   "source": [
    "X_train[X_train['GarageYrBlt'].isnull()]"
   ],
   "metadata": {
    "collapsed": false
   }
  },
  {
   "cell_type": "markdown",
   "metadata": {},
   "source": [
    "### Categorical variable encoding"
   ]
  },
  {
   "cell_type": "code",
   "execution_count": 55,
   "metadata": {},
   "outputs": [
    {
     "data": {
      "text/plain": "[]"
     },
     "execution_count": 55,
     "metadata": {},
     "output_type": "execute_result"
    },
    {
     "name": "stdout",
     "output_type": "stream",
     "text": [
      "time: 0 ns (started: 2022-10-05 19:14:15 +02:00)\n"
     ]
    }
   ],
   "source": [
    "[var for var in X_train.columns if X_train[var].isnull().sum()>0]"
   ]
  },
  {
   "cell_type": "code",
   "execution_count": 56,
   "metadata": {},
   "outputs": [
    {
     "data": {
      "text/plain": "[]"
     },
     "execution_count": 56,
     "metadata": {},
     "output_type": "execute_result"
    },
    {
     "name": "stdout",
     "output_type": "stream",
     "text": [
      "time: 15 ms (started: 2022-10-05 19:14:16 +02:00)\n"
     ]
    }
   ],
   "source": [
    "[var for var in X_train.columns if X_test[var].isnull().sum()>0]"
   ]
  },
  {
   "cell_type": "code",
   "execution_count": 57,
   "metadata": {},
   "outputs": [
    {
     "name": "stdout",
     "output_type": "stream",
     "text": [
      "time: 32 ms (started: 2022-10-05 19:14:17 +02:00)\n"
     ]
    }
   ],
   "source": [
    "# remove rare categories\n",
    "rare_enc = RareLabelCategoricalEncoder(tol=0.01, n_categories=5, variables = vars_cat)\n",
    "rare_enc.fit(X_train)\n",
    "X_train = rare_enc.transform(X_train)\n",
    "X_test = rare_enc.transform(X_test)\n",
    "\n"
   ]
  },
  {
   "cell_type": "code",
   "execution_count": 58,
   "outputs": [
    {
     "name": "stdout",
     "output_type": "stream",
     "text": [
      "time: 0 ns (started: 2022-10-05 19:14:18 +02:00)\n"
     ]
    }
   ],
   "source": [
    "import numpy as np\n",
    "desired_width=320\n",
    "\n",
    "pd.set_option('display.width', desired_width)\n",
    "\n",
    "\n",
    "pd.set_option('display.max_columns',10)"
   ],
   "metadata": {
    "collapsed": false
   }
  },
  {
   "cell_type": "code",
   "execution_count": 59,
   "outputs": [
    {
     "data": {
      "text/plain": "NAmes      201\nCollgCr    135\nOldTown    102\nEdwards     88\nSomerst     75\nNridgHt     71\nGilbert     69\nSawyer      67\nNWAmes      64\nBrkSide     53\nSawyerW     52\nCrawfor     46\nMitchel     46\nTimber      36\nNoRidge     35\nIDOTRR      33\nClearCr     26\nSWISU       24\nStoneBr     23\nRare        21\nBlmngtn     16\nMeadowV     16\nBrDale      15\nName: Neighborhood, dtype: int64"
     },
     "execution_count": 59,
     "metadata": {},
     "output_type": "execute_result"
    },
    {
     "name": "stdout",
     "output_type": "stream",
     "text": [
      "time: 16 ms (started: 2022-10-05 19:14:18 +02:00)\n"
     ]
    }
   ],
   "source": [
    "X_train['Neighborhood'].value_counts(sort=True)"
   ],
   "metadata": {
    "collapsed": false
   }
  },
  {
   "cell_type": "code",
   "execution_count": 61,
   "outputs": [
    {
     "data": {
      "text/plain": "        Id  MSSubClass MSZoning  LotFrontage  LotArea Street    Alley LotShape LandContour Utilities LotConfig LandSlope Neighborhood Condition1 Condition2 BldgType HouseStyle  OverallQual  OverallCond  YearBuilt  YearRemodAdd RoofStyle RoofMatl Exterior1st Exterior2nd MasVnrType  MasVnrArea ExterQual ExterCond  \\\n479    480        30.0       RM         50.0   5925.0   Pave  missing      Reg         Bnk    AllPub    Inside       Gtl      OldTown       Norm       Norm     1Fam     1Story          4.0          7.0       70.0           7.0       Hip  CompShg      Stucco      Stucco     BrkCmn       435.0        TA        TA   \n574    575        80.0       RL         70.0  10500.0   Pave  missing      Reg         Lvl    AllPub       FR2       Gtl        NAmes       Norm       Norm     1Fam       SLvl          5.0          7.0       36.0           2.0      Rare  CompShg     MetalSd        Rare    BrkFace        82.0        TA        TA   \n568    569        50.0       RL         79.0  12327.0   Pave  missing      IR1         Low    AllPub    Inside       Mod      SawyerW       Norm       Norm     1Fam     1.5Fin          8.0          8.0       26.0           0.0     Gable  CompShg     Wd Sdng     Wd Sdng       None         0.0        Gd        TA   \n298    299        60.0       RL         90.0  11700.0   Pave  missing      Reg         Lvl    AllPub    Inside       Gtl       NWAmes       Norm       Norm     1Fam     2Story          6.0          6.0       39.0          39.0      Rare  CompShg     HdBoard        Rare    BrkFace       365.0        Gd        TA   \n184    185        50.0       RL         92.0   7438.0   Pave  missing      IR1         Lvl    AllPub    Inside       Gtl      BrkSide       RRAn       Rare     1Fam     1.5Fin          5.0          8.0       98.0          15.0     Gable  CompShg     AsbShng     Plywood       None         0.0        TA        TA   \n...    ...         ...      ...          ...      ...    ...      ...      ...         ...       ...       ...       ...          ...        ...        ...      ...        ...          ...          ...        ...           ...       ...      ...         ...         ...        ...         ...       ...       ...   \n1312  1313        60.0       RL         -1.0   9572.0   Pave  missing      IR1         Lvl    AllPub    Inside       Gtl      NoRidge       Norm       Norm     1Fam     2Story          8.0          5.0       17.0          17.0     Gable  CompShg     Wd Sdng     Wd Sdng    BrkFace       336.0        Gd        TA   \n845    846        85.0       RL         -1.0  16647.0   Pave  missing      IR1         Lvl    AllPub   CulDSac       Gtl       Sawyer       Rare       Norm     1Fam     SFoyer          5.0          5.0       32.0          26.0     Gable  CompShg     HdBoard     HdBoard       None         0.0        TA        TA   \n849    850        80.0       RL         80.0   9600.0   Pave  missing      Reg         Lvl    AllPub       FR2       Gtl         Rare      Feedr       Norm     1Fam       SLvl          6.0          7.0       31.0          13.0       Hip  CompShg     Plywood     Plywood    BrkFace       360.0        Gd        Gd   \n599    600       160.0       RM         24.0   1950.0   Pave  missing      Reg         Lvl    AllPub    Inside       Gtl         Rare       Norm       Norm    Twnhs     2Story          6.0          6.0       28.0          28.0     Gable  CompShg     MetalSd     MetalSd       None         0.0        TA        Gd   \n1216  1217        90.0       RM         68.0   8930.0   Pave  missing      Reg         Lvl    AllPub    Inside       Gtl       Sawyer       Rare       Norm   Duplex     1.5Fin          6.0          5.0       32.0          32.0     Gable  CompShg     VinylSd     VinylSd       None         0.0        TA        TA   \n\n     Foundation BsmtQual BsmtCond BsmtExposure BsmtFinType1  BsmtFinSF1 BsmtFinType2  BsmtFinSF2  BsmtUnfSF  TotalBsmtSF Heating HeatingQC CentralAir Electrical  1stFlrSF  2ndFlrSF  LowQualFinSF  GrLivArea  BsmtFullBath  BsmtHalfBath  FullBath  HalfBath  BedroomAbvGr  KitchenAbvGr KitchenQual  TotRmsAbvGrd  \\\n479      BrkTil       Fa       TA           No          Rec       168.0          Unf         0.0      739.0        907.0    GasA        TA          Y      SBrkr    1131.0       0.0           0.0     1131.0           0.0           0.0       1.0       0.0           2.0           1.0          TA           7.0   \n574      CBlock       TA       TA           Av          ALQ       349.0          Unf         0.0       23.0        372.0    GasA        TA          Y      SBrkr     576.0     533.0           0.0     1109.0           0.0           1.0       1.0       0.0           3.0           1.0          TA           5.0   \n568      CBlock       Gd       TA           Gd          GLQ      1441.0          Unf         0.0       55.0       1496.0    GasA        Ex          Y      SBrkr    1496.0     636.0           0.0     2132.0           1.0           0.0       1.0       1.0           1.0           1.0          Gd           5.0   \n298      CBlock       TA       TA           No          ALQ       384.0          Rec       175.0      143.0        702.0    GasA        Gd          Y      SBrkr    1041.0     702.0           0.0     1743.0           0.0           1.0       1.0       2.0           3.0           1.0          TA           7.0   \n184       PConc       Fa       TA           No          Unf         0.0          Unf         0.0      504.0        504.0    GasA        Gd          Y      SBrkr     936.0     316.0           0.0     1252.0           0.0           0.0       1.0       0.0           3.0           1.0          TA           5.0   \n...         ...      ...      ...          ...          ...         ...          ...         ...        ...          ...     ...       ...        ...        ...       ...       ...           ...        ...           ...           ...       ...       ...           ...           ...         ...           ...   \n1312      PConc       Ex       TA           No          GLQ       482.0          Unf         0.0      971.0       1453.0    GasA        Ex          Y      SBrkr    1453.0    1357.0           0.0     2810.0           0.0           0.0       2.0       1.0           4.0           1.0          Gd           9.0   \n845      CBlock       Gd       TA           Gd          ALQ      1390.0          Unf         0.0        0.0       1390.0    GasA        TA          Y      SBrkr    1701.0       0.0           0.0     1701.0           1.0           0.0       2.0       0.0           3.0           1.0          TA           6.0   \n849      CBlock       TA       TA           No          Unf         0.0          Unf         0.0      528.0        528.0    GasA        Ex          Y      SBrkr    1094.0     761.0           0.0     1855.0           0.0           0.0       2.0       1.0           3.0           1.0          TA           7.0   \n599      CBlock       Gd       TA           No          LwQ        81.0         Rare       612.0       23.0        716.0    GasA        TA          Y      SBrkr     716.0     840.0           0.0     1556.0           1.0           0.0       2.0       1.0           3.0           1.0          TA           6.0   \n1216       Slab  missing  missing      missing      missing         0.0      missing         0.0        0.0          0.0    GasA        TA          Y      SBrkr    1318.0     584.0           0.0     1902.0           0.0           0.0       2.0       0.0           4.0           2.0          TA           8.0   \n\n     Functional  Fireplaces FireplaceQu GarageType  GarageYrBlt GarageFinish  GarageCars  GarageArea GarageQual GarageCond PavedDrive  WoodDeckSF  OpenPorchSF  EnclosedPorch  3SsnPorch  ScreenPorch  PoolArea   PoolQC    Fence MiscFeature  MiscVal  MoSold  YrSold SaleType SaleCondition  \n479         Typ         0.0     missing     Detchd         12.0          Unf         2.0       672.0         TA         TA          Y         0.0         72.0            0.0        0.0          0.0       0.0  missing    MnPrv     missing      0.0     3.0  2007.0       WD          Rare  \n574         Typ         0.0     missing    BuiltIn         36.0          Unf         1.0       288.0         TA         TA          Y        35.0          0.0            0.0        0.0          0.0       0.0  missing     GdWo     missing      0.0    12.0  2007.0       WD        Normal  \n568        Min2         1.0          Gd    BuiltIn         26.0          Fin         2.0       612.0       Rare         TA          Y       349.0         40.0            0.0        0.0          0.0       0.0  missing  missing     missing      0.0     9.0  2009.0       WD        Normal  \n298         Typ         1.0          Gd     Attchd         39.0          Unf         2.0       539.0         TA         TA          Y       224.0          0.0            0.0        0.0          0.0       0.0  missing  missing     missing      0.0     6.0  2007.0       WD        Normal  \n184         Typ         0.0     missing     Attchd         20.0          Unf         2.0       576.0         TA         TA          Y       104.0          0.0            0.0        0.0          0.0       0.0  missing    MnPrv     missing      0.0     6.0  2006.0       WD        Normal  \n...         ...         ...         ...        ...          ...          ...         ...         ...        ...        ...        ...         ...          ...            ...        ...          ...       ...      ...      ...         ...      ...     ...     ...      ...           ...  \n1312        Typ         1.0          Ex     Attchd         17.0          RFn         2.0       750.0       Rare       Rare          Y       500.0          0.0            0.0        0.0          0.0       0.0  missing  missing     missing      0.0     6.0  2007.0       WD        Normal  \n845        Min2         2.0          TA    Basment         32.0          Fin         2.0       611.0         TA         TA          Y         0.0          0.0            0.0        0.0          0.0       0.0  missing  missing     missing      0.0     1.0  2007.0       WD        Normal  \n849         Typ         1.0          TA     Attchd         31.0          RFn         2.0       512.0         TA         TA          Y       113.0        100.0            0.0        0.0          0.0       0.0  missing  missing     missing      0.0     8.0  2007.0       WD        Normal  \n599         Typ         1.0          TA     Attchd         28.0          Fin         2.0       452.0         TA         TA          Y       161.0          0.0            0.0        0.0          0.0       0.0  missing    GdPrv     missing      0.0     7.0  2008.0      COD        Normal  \n1216        Typ         0.0     missing     Attchd         32.0          Unf         2.0       539.0         TA         TA          Y         0.0          0.0            0.0        0.0          0.0       0.0  missing  missing     missing      0.0     4.0  2010.0       WD        Normal  \n\n[234 rows x 80 columns]",
      "text/html": "<div>\n<style scoped>\n    .dataframe tbody tr th:only-of-type {\n        vertical-align: middle;\n    }\n\n    .dataframe tbody tr th {\n        vertical-align: top;\n    }\n\n    .dataframe thead th {\n        text-align: right;\n    }\n</style>\n<table border=\"1\" class=\"dataframe\">\n  <thead>\n    <tr style=\"text-align: right;\">\n      <th></th>\n      <th>Id</th>\n      <th>MSSubClass</th>\n      <th>MSZoning</th>\n      <th>LotFrontage</th>\n      <th>LotArea</th>\n      <th>Street</th>\n      <th>Alley</th>\n      <th>LotShape</th>\n      <th>LandContour</th>\n      <th>Utilities</th>\n      <th>LotConfig</th>\n      <th>LandSlope</th>\n      <th>Neighborhood</th>\n      <th>Condition1</th>\n      <th>Condition2</th>\n      <th>BldgType</th>\n      <th>HouseStyle</th>\n      <th>OverallQual</th>\n      <th>OverallCond</th>\n      <th>YearBuilt</th>\n      <th>YearRemodAdd</th>\n      <th>RoofStyle</th>\n      <th>RoofMatl</th>\n      <th>Exterior1st</th>\n      <th>Exterior2nd</th>\n      <th>MasVnrType</th>\n      <th>MasVnrArea</th>\n      <th>ExterQual</th>\n      <th>ExterCond</th>\n      <th>Foundation</th>\n      <th>BsmtQual</th>\n      <th>BsmtCond</th>\n      <th>BsmtExposure</th>\n      <th>BsmtFinType1</th>\n      <th>BsmtFinSF1</th>\n      <th>BsmtFinType2</th>\n      <th>BsmtFinSF2</th>\n      <th>BsmtUnfSF</th>\n      <th>TotalBsmtSF</th>\n      <th>Heating</th>\n      <th>HeatingQC</th>\n      <th>CentralAir</th>\n      <th>Electrical</th>\n      <th>1stFlrSF</th>\n      <th>2ndFlrSF</th>\n      <th>LowQualFinSF</th>\n      <th>GrLivArea</th>\n      <th>BsmtFullBath</th>\n      <th>BsmtHalfBath</th>\n      <th>FullBath</th>\n      <th>HalfBath</th>\n      <th>BedroomAbvGr</th>\n      <th>KitchenAbvGr</th>\n      <th>KitchenQual</th>\n      <th>TotRmsAbvGrd</th>\n      <th>Functional</th>\n      <th>Fireplaces</th>\n      <th>FireplaceQu</th>\n      <th>GarageType</th>\n      <th>GarageYrBlt</th>\n      <th>GarageFinish</th>\n      <th>GarageCars</th>\n      <th>GarageArea</th>\n      <th>GarageQual</th>\n      <th>GarageCond</th>\n      <th>PavedDrive</th>\n      <th>WoodDeckSF</th>\n      <th>OpenPorchSF</th>\n      <th>EnclosedPorch</th>\n      <th>3SsnPorch</th>\n      <th>ScreenPorch</th>\n      <th>PoolArea</th>\n      <th>PoolQC</th>\n      <th>Fence</th>\n      <th>MiscFeature</th>\n      <th>MiscVal</th>\n      <th>MoSold</th>\n      <th>YrSold</th>\n      <th>SaleType</th>\n      <th>SaleCondition</th>\n    </tr>\n  </thead>\n  <tbody>\n    <tr>\n      <th>479</th>\n      <td>480</td>\n      <td>30.0</td>\n      <td>RM</td>\n      <td>50.0</td>\n      <td>5925.0</td>\n      <td>Pave</td>\n      <td>missing</td>\n      <td>Reg</td>\n      <td>Bnk</td>\n      <td>AllPub</td>\n      <td>Inside</td>\n      <td>Gtl</td>\n      <td>OldTown</td>\n      <td>Norm</td>\n      <td>Norm</td>\n      <td>1Fam</td>\n      <td>1Story</td>\n      <td>4.0</td>\n      <td>7.0</td>\n      <td>70.0</td>\n      <td>7.0</td>\n      <td>Hip</td>\n      <td>CompShg</td>\n      <td>Stucco</td>\n      <td>Stucco</td>\n      <td>BrkCmn</td>\n      <td>435.0</td>\n      <td>TA</td>\n      <td>TA</td>\n      <td>BrkTil</td>\n      <td>Fa</td>\n      <td>TA</td>\n      <td>No</td>\n      <td>Rec</td>\n      <td>168.0</td>\n      <td>Unf</td>\n      <td>0.0</td>\n      <td>739.0</td>\n      <td>907.0</td>\n      <td>GasA</td>\n      <td>TA</td>\n      <td>Y</td>\n      <td>SBrkr</td>\n      <td>1131.0</td>\n      <td>0.0</td>\n      <td>0.0</td>\n      <td>1131.0</td>\n      <td>0.0</td>\n      <td>0.0</td>\n      <td>1.0</td>\n      <td>0.0</td>\n      <td>2.0</td>\n      <td>1.0</td>\n      <td>TA</td>\n      <td>7.0</td>\n      <td>Typ</td>\n      <td>0.0</td>\n      <td>missing</td>\n      <td>Detchd</td>\n      <td>12.0</td>\n      <td>Unf</td>\n      <td>2.0</td>\n      <td>672.0</td>\n      <td>TA</td>\n      <td>TA</td>\n      <td>Y</td>\n      <td>0.0</td>\n      <td>72.0</td>\n      <td>0.0</td>\n      <td>0.0</td>\n      <td>0.0</td>\n      <td>0.0</td>\n      <td>missing</td>\n      <td>MnPrv</td>\n      <td>missing</td>\n      <td>0.0</td>\n      <td>3.0</td>\n      <td>2007.0</td>\n      <td>WD</td>\n      <td>Rare</td>\n    </tr>\n    <tr>\n      <th>574</th>\n      <td>575</td>\n      <td>80.0</td>\n      <td>RL</td>\n      <td>70.0</td>\n      <td>10500.0</td>\n      <td>Pave</td>\n      <td>missing</td>\n      <td>Reg</td>\n      <td>Lvl</td>\n      <td>AllPub</td>\n      <td>FR2</td>\n      <td>Gtl</td>\n      <td>NAmes</td>\n      <td>Norm</td>\n      <td>Norm</td>\n      <td>1Fam</td>\n      <td>SLvl</td>\n      <td>5.0</td>\n      <td>7.0</td>\n      <td>36.0</td>\n      <td>2.0</td>\n      <td>Rare</td>\n      <td>CompShg</td>\n      <td>MetalSd</td>\n      <td>Rare</td>\n      <td>BrkFace</td>\n      <td>82.0</td>\n      <td>TA</td>\n      <td>TA</td>\n      <td>CBlock</td>\n      <td>TA</td>\n      <td>TA</td>\n      <td>Av</td>\n      <td>ALQ</td>\n      <td>349.0</td>\n      <td>Unf</td>\n      <td>0.0</td>\n      <td>23.0</td>\n      <td>372.0</td>\n      <td>GasA</td>\n      <td>TA</td>\n      <td>Y</td>\n      <td>SBrkr</td>\n      <td>576.0</td>\n      <td>533.0</td>\n      <td>0.0</td>\n      <td>1109.0</td>\n      <td>0.0</td>\n      <td>1.0</td>\n      <td>1.0</td>\n      <td>0.0</td>\n      <td>3.0</td>\n      <td>1.0</td>\n      <td>TA</td>\n      <td>5.0</td>\n      <td>Typ</td>\n      <td>0.0</td>\n      <td>missing</td>\n      <td>BuiltIn</td>\n      <td>36.0</td>\n      <td>Unf</td>\n      <td>1.0</td>\n      <td>288.0</td>\n      <td>TA</td>\n      <td>TA</td>\n      <td>Y</td>\n      <td>35.0</td>\n      <td>0.0</td>\n      <td>0.0</td>\n      <td>0.0</td>\n      <td>0.0</td>\n      <td>0.0</td>\n      <td>missing</td>\n      <td>GdWo</td>\n      <td>missing</td>\n      <td>0.0</td>\n      <td>12.0</td>\n      <td>2007.0</td>\n      <td>WD</td>\n      <td>Normal</td>\n    </tr>\n    <tr>\n      <th>568</th>\n      <td>569</td>\n      <td>50.0</td>\n      <td>RL</td>\n      <td>79.0</td>\n      <td>12327.0</td>\n      <td>Pave</td>\n      <td>missing</td>\n      <td>IR1</td>\n      <td>Low</td>\n      <td>AllPub</td>\n      <td>Inside</td>\n      <td>Mod</td>\n      <td>SawyerW</td>\n      <td>Norm</td>\n      <td>Norm</td>\n      <td>1Fam</td>\n      <td>1.5Fin</td>\n      <td>8.0</td>\n      <td>8.0</td>\n      <td>26.0</td>\n      <td>0.0</td>\n      <td>Gable</td>\n      <td>CompShg</td>\n      <td>Wd Sdng</td>\n      <td>Wd Sdng</td>\n      <td>None</td>\n      <td>0.0</td>\n      <td>Gd</td>\n      <td>TA</td>\n      <td>CBlock</td>\n      <td>Gd</td>\n      <td>TA</td>\n      <td>Gd</td>\n      <td>GLQ</td>\n      <td>1441.0</td>\n      <td>Unf</td>\n      <td>0.0</td>\n      <td>55.0</td>\n      <td>1496.0</td>\n      <td>GasA</td>\n      <td>Ex</td>\n      <td>Y</td>\n      <td>SBrkr</td>\n      <td>1496.0</td>\n      <td>636.0</td>\n      <td>0.0</td>\n      <td>2132.0</td>\n      <td>1.0</td>\n      <td>0.0</td>\n      <td>1.0</td>\n      <td>1.0</td>\n      <td>1.0</td>\n      <td>1.0</td>\n      <td>Gd</td>\n      <td>5.0</td>\n      <td>Min2</td>\n      <td>1.0</td>\n      <td>Gd</td>\n      <td>BuiltIn</td>\n      <td>26.0</td>\n      <td>Fin</td>\n      <td>2.0</td>\n      <td>612.0</td>\n      <td>Rare</td>\n      <td>TA</td>\n      <td>Y</td>\n      <td>349.0</td>\n      <td>40.0</td>\n      <td>0.0</td>\n      <td>0.0</td>\n      <td>0.0</td>\n      <td>0.0</td>\n      <td>missing</td>\n      <td>missing</td>\n      <td>missing</td>\n      <td>0.0</td>\n      <td>9.0</td>\n      <td>2009.0</td>\n      <td>WD</td>\n      <td>Normal</td>\n    </tr>\n    <tr>\n      <th>298</th>\n      <td>299</td>\n      <td>60.0</td>\n      <td>RL</td>\n      <td>90.0</td>\n      <td>11700.0</td>\n      <td>Pave</td>\n      <td>missing</td>\n      <td>Reg</td>\n      <td>Lvl</td>\n      <td>AllPub</td>\n      <td>Inside</td>\n      <td>Gtl</td>\n      <td>NWAmes</td>\n      <td>Norm</td>\n      <td>Norm</td>\n      <td>1Fam</td>\n      <td>2Story</td>\n      <td>6.0</td>\n      <td>6.0</td>\n      <td>39.0</td>\n      <td>39.0</td>\n      <td>Rare</td>\n      <td>CompShg</td>\n      <td>HdBoard</td>\n      <td>Rare</td>\n      <td>BrkFace</td>\n      <td>365.0</td>\n      <td>Gd</td>\n      <td>TA</td>\n      <td>CBlock</td>\n      <td>TA</td>\n      <td>TA</td>\n      <td>No</td>\n      <td>ALQ</td>\n      <td>384.0</td>\n      <td>Rec</td>\n      <td>175.0</td>\n      <td>143.0</td>\n      <td>702.0</td>\n      <td>GasA</td>\n      <td>Gd</td>\n      <td>Y</td>\n      <td>SBrkr</td>\n      <td>1041.0</td>\n      <td>702.0</td>\n      <td>0.0</td>\n      <td>1743.0</td>\n      <td>0.0</td>\n      <td>1.0</td>\n      <td>1.0</td>\n      <td>2.0</td>\n      <td>3.0</td>\n      <td>1.0</td>\n      <td>TA</td>\n      <td>7.0</td>\n      <td>Typ</td>\n      <td>1.0</td>\n      <td>Gd</td>\n      <td>Attchd</td>\n      <td>39.0</td>\n      <td>Unf</td>\n      <td>2.0</td>\n      <td>539.0</td>\n      <td>TA</td>\n      <td>TA</td>\n      <td>Y</td>\n      <td>224.0</td>\n      <td>0.0</td>\n      <td>0.0</td>\n      <td>0.0</td>\n      <td>0.0</td>\n      <td>0.0</td>\n      <td>missing</td>\n      <td>missing</td>\n      <td>missing</td>\n      <td>0.0</td>\n      <td>6.0</td>\n      <td>2007.0</td>\n      <td>WD</td>\n      <td>Normal</td>\n    </tr>\n    <tr>\n      <th>184</th>\n      <td>185</td>\n      <td>50.0</td>\n      <td>RL</td>\n      <td>92.0</td>\n      <td>7438.0</td>\n      <td>Pave</td>\n      <td>missing</td>\n      <td>IR1</td>\n      <td>Lvl</td>\n      <td>AllPub</td>\n      <td>Inside</td>\n      <td>Gtl</td>\n      <td>BrkSide</td>\n      <td>RRAn</td>\n      <td>Rare</td>\n      <td>1Fam</td>\n      <td>1.5Fin</td>\n      <td>5.0</td>\n      <td>8.0</td>\n      <td>98.0</td>\n      <td>15.0</td>\n      <td>Gable</td>\n      <td>CompShg</td>\n      <td>AsbShng</td>\n      <td>Plywood</td>\n      <td>None</td>\n      <td>0.0</td>\n      <td>TA</td>\n      <td>TA</td>\n      <td>PConc</td>\n      <td>Fa</td>\n      <td>TA</td>\n      <td>No</td>\n      <td>Unf</td>\n      <td>0.0</td>\n      <td>Unf</td>\n      <td>0.0</td>\n      <td>504.0</td>\n      <td>504.0</td>\n      <td>GasA</td>\n      <td>Gd</td>\n      <td>Y</td>\n      <td>SBrkr</td>\n      <td>936.0</td>\n      <td>316.0</td>\n      <td>0.0</td>\n      <td>1252.0</td>\n      <td>0.0</td>\n      <td>0.0</td>\n      <td>1.0</td>\n      <td>0.0</td>\n      <td>3.0</td>\n      <td>1.0</td>\n      <td>TA</td>\n      <td>5.0</td>\n      <td>Typ</td>\n      <td>0.0</td>\n      <td>missing</td>\n      <td>Attchd</td>\n      <td>20.0</td>\n      <td>Unf</td>\n      <td>2.0</td>\n      <td>576.0</td>\n      <td>TA</td>\n      <td>TA</td>\n      <td>Y</td>\n      <td>104.0</td>\n      <td>0.0</td>\n      <td>0.0</td>\n      <td>0.0</td>\n      <td>0.0</td>\n      <td>0.0</td>\n      <td>missing</td>\n      <td>MnPrv</td>\n      <td>missing</td>\n      <td>0.0</td>\n      <td>6.0</td>\n      <td>2006.0</td>\n      <td>WD</td>\n      <td>Normal</td>\n    </tr>\n    <tr>\n      <th>...</th>\n      <td>...</td>\n      <td>...</td>\n      <td>...</td>\n      <td>...</td>\n      <td>...</td>\n      <td>...</td>\n      <td>...</td>\n      <td>...</td>\n      <td>...</td>\n      <td>...</td>\n      <td>...</td>\n      <td>...</td>\n      <td>...</td>\n      <td>...</td>\n      <td>...</td>\n      <td>...</td>\n      <td>...</td>\n      <td>...</td>\n      <td>...</td>\n      <td>...</td>\n      <td>...</td>\n      <td>...</td>\n      <td>...</td>\n      <td>...</td>\n      <td>...</td>\n      <td>...</td>\n      <td>...</td>\n      <td>...</td>\n      <td>...</td>\n      <td>...</td>\n      <td>...</td>\n      <td>...</td>\n      <td>...</td>\n      <td>...</td>\n      <td>...</td>\n      <td>...</td>\n      <td>...</td>\n      <td>...</td>\n      <td>...</td>\n      <td>...</td>\n      <td>...</td>\n      <td>...</td>\n      <td>...</td>\n      <td>...</td>\n      <td>...</td>\n      <td>...</td>\n      <td>...</td>\n      <td>...</td>\n      <td>...</td>\n      <td>...</td>\n      <td>...</td>\n      <td>...</td>\n      <td>...</td>\n      <td>...</td>\n      <td>...</td>\n      <td>...</td>\n      <td>...</td>\n      <td>...</td>\n      <td>...</td>\n      <td>...</td>\n      <td>...</td>\n      <td>...</td>\n      <td>...</td>\n      <td>...</td>\n      <td>...</td>\n      <td>...</td>\n      <td>...</td>\n      <td>...</td>\n      <td>...</td>\n      <td>...</td>\n      <td>...</td>\n      <td>...</td>\n      <td>...</td>\n      <td>...</td>\n      <td>...</td>\n      <td>...</td>\n      <td>...</td>\n      <td>...</td>\n      <td>...</td>\n      <td>...</td>\n    </tr>\n    <tr>\n      <th>1312</th>\n      <td>1313</td>\n      <td>60.0</td>\n      <td>RL</td>\n      <td>-1.0</td>\n      <td>9572.0</td>\n      <td>Pave</td>\n      <td>missing</td>\n      <td>IR1</td>\n      <td>Lvl</td>\n      <td>AllPub</td>\n      <td>Inside</td>\n      <td>Gtl</td>\n      <td>NoRidge</td>\n      <td>Norm</td>\n      <td>Norm</td>\n      <td>1Fam</td>\n      <td>2Story</td>\n      <td>8.0</td>\n      <td>5.0</td>\n      <td>17.0</td>\n      <td>17.0</td>\n      <td>Gable</td>\n      <td>CompShg</td>\n      <td>Wd Sdng</td>\n      <td>Wd Sdng</td>\n      <td>BrkFace</td>\n      <td>336.0</td>\n      <td>Gd</td>\n      <td>TA</td>\n      <td>PConc</td>\n      <td>Ex</td>\n      <td>TA</td>\n      <td>No</td>\n      <td>GLQ</td>\n      <td>482.0</td>\n      <td>Unf</td>\n      <td>0.0</td>\n      <td>971.0</td>\n      <td>1453.0</td>\n      <td>GasA</td>\n      <td>Ex</td>\n      <td>Y</td>\n      <td>SBrkr</td>\n      <td>1453.0</td>\n      <td>1357.0</td>\n      <td>0.0</td>\n      <td>2810.0</td>\n      <td>0.0</td>\n      <td>0.0</td>\n      <td>2.0</td>\n      <td>1.0</td>\n      <td>4.0</td>\n      <td>1.0</td>\n      <td>Gd</td>\n      <td>9.0</td>\n      <td>Typ</td>\n      <td>1.0</td>\n      <td>Ex</td>\n      <td>Attchd</td>\n      <td>17.0</td>\n      <td>RFn</td>\n      <td>2.0</td>\n      <td>750.0</td>\n      <td>Rare</td>\n      <td>Rare</td>\n      <td>Y</td>\n      <td>500.0</td>\n      <td>0.0</td>\n      <td>0.0</td>\n      <td>0.0</td>\n      <td>0.0</td>\n      <td>0.0</td>\n      <td>missing</td>\n      <td>missing</td>\n      <td>missing</td>\n      <td>0.0</td>\n      <td>6.0</td>\n      <td>2007.0</td>\n      <td>WD</td>\n      <td>Normal</td>\n    </tr>\n    <tr>\n      <th>845</th>\n      <td>846</td>\n      <td>85.0</td>\n      <td>RL</td>\n      <td>-1.0</td>\n      <td>16647.0</td>\n      <td>Pave</td>\n      <td>missing</td>\n      <td>IR1</td>\n      <td>Lvl</td>\n      <td>AllPub</td>\n      <td>CulDSac</td>\n      <td>Gtl</td>\n      <td>Sawyer</td>\n      <td>Rare</td>\n      <td>Norm</td>\n      <td>1Fam</td>\n      <td>SFoyer</td>\n      <td>5.0</td>\n      <td>5.0</td>\n      <td>32.0</td>\n      <td>26.0</td>\n      <td>Gable</td>\n      <td>CompShg</td>\n      <td>HdBoard</td>\n      <td>HdBoard</td>\n      <td>None</td>\n      <td>0.0</td>\n      <td>TA</td>\n      <td>TA</td>\n      <td>CBlock</td>\n      <td>Gd</td>\n      <td>TA</td>\n      <td>Gd</td>\n      <td>ALQ</td>\n      <td>1390.0</td>\n      <td>Unf</td>\n      <td>0.0</td>\n      <td>0.0</td>\n      <td>1390.0</td>\n      <td>GasA</td>\n      <td>TA</td>\n      <td>Y</td>\n      <td>SBrkr</td>\n      <td>1701.0</td>\n      <td>0.0</td>\n      <td>0.0</td>\n      <td>1701.0</td>\n      <td>1.0</td>\n      <td>0.0</td>\n      <td>2.0</td>\n      <td>0.0</td>\n      <td>3.0</td>\n      <td>1.0</td>\n      <td>TA</td>\n      <td>6.0</td>\n      <td>Min2</td>\n      <td>2.0</td>\n      <td>TA</td>\n      <td>Basment</td>\n      <td>32.0</td>\n      <td>Fin</td>\n      <td>2.0</td>\n      <td>611.0</td>\n      <td>TA</td>\n      <td>TA</td>\n      <td>Y</td>\n      <td>0.0</td>\n      <td>0.0</td>\n      <td>0.0</td>\n      <td>0.0</td>\n      <td>0.0</td>\n      <td>0.0</td>\n      <td>missing</td>\n      <td>missing</td>\n      <td>missing</td>\n      <td>0.0</td>\n      <td>1.0</td>\n      <td>2007.0</td>\n      <td>WD</td>\n      <td>Normal</td>\n    </tr>\n    <tr>\n      <th>849</th>\n      <td>850</td>\n      <td>80.0</td>\n      <td>RL</td>\n      <td>80.0</td>\n      <td>9600.0</td>\n      <td>Pave</td>\n      <td>missing</td>\n      <td>Reg</td>\n      <td>Lvl</td>\n      <td>AllPub</td>\n      <td>FR2</td>\n      <td>Gtl</td>\n      <td>Rare</td>\n      <td>Feedr</td>\n      <td>Norm</td>\n      <td>1Fam</td>\n      <td>SLvl</td>\n      <td>6.0</td>\n      <td>7.0</td>\n      <td>31.0</td>\n      <td>13.0</td>\n      <td>Hip</td>\n      <td>CompShg</td>\n      <td>Plywood</td>\n      <td>Plywood</td>\n      <td>BrkFace</td>\n      <td>360.0</td>\n      <td>Gd</td>\n      <td>Gd</td>\n      <td>CBlock</td>\n      <td>TA</td>\n      <td>TA</td>\n      <td>No</td>\n      <td>Unf</td>\n      <td>0.0</td>\n      <td>Unf</td>\n      <td>0.0</td>\n      <td>528.0</td>\n      <td>528.0</td>\n      <td>GasA</td>\n      <td>Ex</td>\n      <td>Y</td>\n      <td>SBrkr</td>\n      <td>1094.0</td>\n      <td>761.0</td>\n      <td>0.0</td>\n      <td>1855.0</td>\n      <td>0.0</td>\n      <td>0.0</td>\n      <td>2.0</td>\n      <td>1.0</td>\n      <td>3.0</td>\n      <td>1.0</td>\n      <td>TA</td>\n      <td>7.0</td>\n      <td>Typ</td>\n      <td>1.0</td>\n      <td>TA</td>\n      <td>Attchd</td>\n      <td>31.0</td>\n      <td>RFn</td>\n      <td>2.0</td>\n      <td>512.0</td>\n      <td>TA</td>\n      <td>TA</td>\n      <td>Y</td>\n      <td>113.0</td>\n      <td>100.0</td>\n      <td>0.0</td>\n      <td>0.0</td>\n      <td>0.0</td>\n      <td>0.0</td>\n      <td>missing</td>\n      <td>missing</td>\n      <td>missing</td>\n      <td>0.0</td>\n      <td>8.0</td>\n      <td>2007.0</td>\n      <td>WD</td>\n      <td>Normal</td>\n    </tr>\n    <tr>\n      <th>599</th>\n      <td>600</td>\n      <td>160.0</td>\n      <td>RM</td>\n      <td>24.0</td>\n      <td>1950.0</td>\n      <td>Pave</td>\n      <td>missing</td>\n      <td>Reg</td>\n      <td>Lvl</td>\n      <td>AllPub</td>\n      <td>Inside</td>\n      <td>Gtl</td>\n      <td>Rare</td>\n      <td>Norm</td>\n      <td>Norm</td>\n      <td>Twnhs</td>\n      <td>2Story</td>\n      <td>6.0</td>\n      <td>6.0</td>\n      <td>28.0</td>\n      <td>28.0</td>\n      <td>Gable</td>\n      <td>CompShg</td>\n      <td>MetalSd</td>\n      <td>MetalSd</td>\n      <td>None</td>\n      <td>0.0</td>\n      <td>TA</td>\n      <td>Gd</td>\n      <td>CBlock</td>\n      <td>Gd</td>\n      <td>TA</td>\n      <td>No</td>\n      <td>LwQ</td>\n      <td>81.0</td>\n      <td>Rare</td>\n      <td>612.0</td>\n      <td>23.0</td>\n      <td>716.0</td>\n      <td>GasA</td>\n      <td>TA</td>\n      <td>Y</td>\n      <td>SBrkr</td>\n      <td>716.0</td>\n      <td>840.0</td>\n      <td>0.0</td>\n      <td>1556.0</td>\n      <td>1.0</td>\n      <td>0.0</td>\n      <td>2.0</td>\n      <td>1.0</td>\n      <td>3.0</td>\n      <td>1.0</td>\n      <td>TA</td>\n      <td>6.0</td>\n      <td>Typ</td>\n      <td>1.0</td>\n      <td>TA</td>\n      <td>Attchd</td>\n      <td>28.0</td>\n      <td>Fin</td>\n      <td>2.0</td>\n      <td>452.0</td>\n      <td>TA</td>\n      <td>TA</td>\n      <td>Y</td>\n      <td>161.0</td>\n      <td>0.0</td>\n      <td>0.0</td>\n      <td>0.0</td>\n      <td>0.0</td>\n      <td>0.0</td>\n      <td>missing</td>\n      <td>GdPrv</td>\n      <td>missing</td>\n      <td>0.0</td>\n      <td>7.0</td>\n      <td>2008.0</td>\n      <td>COD</td>\n      <td>Normal</td>\n    </tr>\n    <tr>\n      <th>1216</th>\n      <td>1217</td>\n      <td>90.0</td>\n      <td>RM</td>\n      <td>68.0</td>\n      <td>8930.0</td>\n      <td>Pave</td>\n      <td>missing</td>\n      <td>Reg</td>\n      <td>Lvl</td>\n      <td>AllPub</td>\n      <td>Inside</td>\n      <td>Gtl</td>\n      <td>Sawyer</td>\n      <td>Rare</td>\n      <td>Norm</td>\n      <td>Duplex</td>\n      <td>1.5Fin</td>\n      <td>6.0</td>\n      <td>5.0</td>\n      <td>32.0</td>\n      <td>32.0</td>\n      <td>Gable</td>\n      <td>CompShg</td>\n      <td>VinylSd</td>\n      <td>VinylSd</td>\n      <td>None</td>\n      <td>0.0</td>\n      <td>TA</td>\n      <td>TA</td>\n      <td>Slab</td>\n      <td>missing</td>\n      <td>missing</td>\n      <td>missing</td>\n      <td>missing</td>\n      <td>0.0</td>\n      <td>missing</td>\n      <td>0.0</td>\n      <td>0.0</td>\n      <td>0.0</td>\n      <td>GasA</td>\n      <td>TA</td>\n      <td>Y</td>\n      <td>SBrkr</td>\n      <td>1318.0</td>\n      <td>584.0</td>\n      <td>0.0</td>\n      <td>1902.0</td>\n      <td>0.0</td>\n      <td>0.0</td>\n      <td>2.0</td>\n      <td>0.0</td>\n      <td>4.0</td>\n      <td>2.0</td>\n      <td>TA</td>\n      <td>8.0</td>\n      <td>Typ</td>\n      <td>0.0</td>\n      <td>missing</td>\n      <td>Attchd</td>\n      <td>32.0</td>\n      <td>Unf</td>\n      <td>2.0</td>\n      <td>539.0</td>\n      <td>TA</td>\n      <td>TA</td>\n      <td>Y</td>\n      <td>0.0</td>\n      <td>0.0</td>\n      <td>0.0</td>\n      <td>0.0</td>\n      <td>0.0</td>\n      <td>0.0</td>\n      <td>missing</td>\n      <td>missing</td>\n      <td>missing</td>\n      <td>0.0</td>\n      <td>4.0</td>\n      <td>2010.0</td>\n      <td>WD</td>\n      <td>Normal</td>\n    </tr>\n  </tbody>\n</table>\n<p>234 rows × 80 columns</p>\n</div>"
     },
     "execution_count": 61,
     "metadata": {},
     "output_type": "execute_result"
    },
    {
     "name": "stdout",
     "output_type": "stream",
     "text": [
      "time: 79 ms (started: 2022-10-05 19:15:59 +02:00)\n"
     ]
    }
   ],
   "source": [
    "pd.set_option(\"display.max_columns\", 111)\n",
    "pd.set_option(\"display.max_rows\", 111)\n",
    "\n",
    "X_train[X_train.eq(\"Rare\").any(1)]"
   ],
   "metadata": {
    "collapsed": false
   }
  },
  {
   "cell_type": "code",
   "execution_count": 63,
   "metadata": {},
   "outputs": [
    {
     "name": "stdout",
     "output_type": "stream",
     "text": [
      "time: 47 ms (started: 2022-10-05 19:17:54 +02:00)\n"
     ]
    }
   ],
   "source": [
    "# encode with labels\n",
    "\n",
    "ordinal_enc = OrdinalEncoder()\n",
    "X_train[vars_cat] = ordinal_enc.fit_transform(X_train[vars_cat])\n",
    "X_test[vars_cat] = ordinal_enc.transform(X_test[vars_cat])"
   ]
  },
  {
   "cell_type": "code",
   "execution_count": 64,
   "metadata": {},
   "outputs": [
    {
     "data": {
      "text/plain": "[]"
     },
     "execution_count": 64,
     "metadata": {},
     "output_type": "execute_result"
    },
    {
     "name": "stdout",
     "output_type": "stream",
     "text": [
      "time: 15 ms (started: 2022-10-05 19:17:56 +02:00)\n"
     ]
    }
   ],
   "source": [
    "[var for var in X_train.columns if X_test[var].isnull().sum()>0]"
   ]
  },
  {
   "cell_type": "code",
   "execution_count": 65,
   "metadata": {},
   "outputs": [
    {
     "data": {
      "text/plain": "        Id  MSSubClass  MSZoning  LotFrontage  LotArea  Street  Alley  LotShape  LandContour  Utilities  LotConfig  LandSlope  Neighborhood  Condition1  Condition2  BldgType  HouseStyle  OverallQual  OverallCond  YearBuilt  YearRemodAdd  RoofStyle  RoofMatl  Exterior1st  Exterior2nd  MasVnrType  MasVnrArea  \\\n930    931        20.0       3.0         73.0   8925.0     1.0    2.0       0.0          1.0        0.0        4.0        0.0          22.0         2.0         0.0       0.0         1.0          8.0          5.0        2.0           2.0        0.0       0.0          8.0          8.0         2.0         0.0   \n656    657        20.0       3.0         72.0  10007.0     1.0    2.0       0.0          3.0        0.0        4.0        0.0          11.0         2.0         0.0       0.0         1.0          5.0          7.0       49.0           2.0        0.0       0.0          3.0          3.0         1.0        54.0   \n45      46       120.0       3.0         61.0   7658.0     1.0    2.0       3.0          3.0        0.0        4.0        0.0          14.0         2.0         0.0       4.0         1.0          9.0          5.0        5.0           5.0        1.0       0.0          4.0          4.0         1.0       412.0   \n1348  1349        20.0       3.0         -1.0  16196.0     1.0    2.0       2.0          2.0        0.0        4.0        0.0          19.0         2.0         0.0       0.0         1.0          7.0          5.0        9.0           9.0        0.0       0.0          8.0          8.0         2.0         0.0   \n55      56        20.0       3.0        100.0  10175.0     1.0    2.0       0.0          3.0        0.0        4.0        0.0          11.0         2.0         0.0       0.0         1.0          6.0          5.0       44.0          44.0        0.0       0.0          3.0          5.0         1.0       272.0   \n\n      ExterQual  ExterCond  Foundation  BsmtQual  BsmtCond  BsmtExposure  BsmtFinType1  BsmtFinSF1  BsmtFinType2  BsmtFinSF2  BsmtUnfSF  TotalBsmtSF  Heating  HeatingQC  CentralAir  Electrical  1stFlrSF  2ndFlrSF  LowQualFinSF  GrLivArea  BsmtFullBath  BsmtHalfBath  FullBath  HalfBath  BedroomAbvGr  KitchenAbvGr  \\\n930         2.0        4.0         2.0       2.0       3.0           0.0           2.0        16.0           5.0         0.0     1450.0       1466.0      0.0        0.0         1.0         3.0    1466.0       0.0           0.0     1466.0           0.0           0.0       2.0       0.0           3.0           1.0   \n656         2.0        4.0         1.0       3.0       3.0           3.0           0.0       806.0           5.0         0.0      247.0       1053.0      0.0        0.0         1.0         3.0    1053.0       0.0           0.0     1053.0           1.0           0.0       1.0       1.0           3.0           1.0   \n45          0.0        4.0         2.0       0.0       3.0           3.0           2.0       456.0           5.0         0.0     1296.0       1752.0      0.0        0.0         1.0         3.0    1752.0       0.0           0.0     1752.0           1.0           0.0       2.0       0.0           2.0           1.0   \n1348        2.0        4.0         2.0       2.0       3.0           1.0           2.0      1443.0           5.0         0.0       39.0       1482.0      0.0        0.0         1.0         3.0    1494.0       0.0           0.0     1494.0           1.0           0.0       2.0       0.0           3.0           1.0   \n55          3.0        4.0         1.0       3.0       3.0           3.0           1.0       490.0           5.0         0.0      935.0       1425.0      0.0        2.0         1.0         3.0    1425.0       0.0           0.0     1425.0           0.0           0.0       2.0       0.0           3.0           1.0   \n\n      KitchenQual  TotRmsAbvGrd  Functional  Fireplaces  FireplaceQu  GarageType  GarageYrBlt  GarageFinish  GarageCars  GarageArea  GarageQual  GarageCond  PavedDrive  WoodDeckSF  OpenPorchSF  EnclosedPorch  3SsnPorch  ScreenPorch  PoolArea  PoolQC  Fence  MiscFeature  MiscVal  MoSold  YrSold  SaleType  \\\n930           2.0           7.0         4.0         0.0          5.0         0.0          2.0           0.0         3.0       610.0         2.0         2.0         2.0       100.0         18.0            0.0        0.0          0.0       0.0     3.0    4.0          4.0      0.0     7.0  2009.0       3.0   \n656           2.0           5.0         4.0         0.0          5.0         0.0         49.0           1.0         1.0       312.0         2.0         2.0         2.0         0.0          0.0            0.0        0.0          0.0       0.0     3.0    2.0          4.0      0.0     8.0  2008.0       3.0   \n45            0.0           6.0         4.0         1.0          2.0         0.0          5.0           1.0         2.0       576.0         2.0         2.0         2.0       196.0         82.0            0.0        0.0          0.0       0.0     3.0    4.0          4.0      0.0     2.0  2010.0       3.0   \n1348          2.0           5.0         4.0         1.0          1.0         0.0          9.0           1.0         2.0       514.0         2.0         2.0         2.0       402.0         25.0            0.0        0.0          0.0       0.0     3.0    4.0          4.0      0.0     8.0  2007.0       3.0   \n55            3.0           7.0         4.0         1.0          2.0         0.0         44.0           1.0         2.0       576.0         2.0         2.0         2.0         0.0          0.0            0.0      407.0          0.0       0.0     3.0    4.0          4.0      0.0     7.0  2008.0       3.0   \n\n      SaleCondition  \n930             2.0  \n656             2.0  \n45              2.0  \n1348            2.0  \n55              2.0  ",
      "text/html": "<div>\n<style scoped>\n    .dataframe tbody tr th:only-of-type {\n        vertical-align: middle;\n    }\n\n    .dataframe tbody tr th {\n        vertical-align: top;\n    }\n\n    .dataframe thead th {\n        text-align: right;\n    }\n</style>\n<table border=\"1\" class=\"dataframe\">\n  <thead>\n    <tr style=\"text-align: right;\">\n      <th></th>\n      <th>Id</th>\n      <th>MSSubClass</th>\n      <th>MSZoning</th>\n      <th>LotFrontage</th>\n      <th>LotArea</th>\n      <th>Street</th>\n      <th>Alley</th>\n      <th>LotShape</th>\n      <th>LandContour</th>\n      <th>Utilities</th>\n      <th>LotConfig</th>\n      <th>LandSlope</th>\n      <th>Neighborhood</th>\n      <th>Condition1</th>\n      <th>Condition2</th>\n      <th>BldgType</th>\n      <th>HouseStyle</th>\n      <th>OverallQual</th>\n      <th>OverallCond</th>\n      <th>YearBuilt</th>\n      <th>YearRemodAdd</th>\n      <th>RoofStyle</th>\n      <th>RoofMatl</th>\n      <th>Exterior1st</th>\n      <th>Exterior2nd</th>\n      <th>MasVnrType</th>\n      <th>MasVnrArea</th>\n      <th>ExterQual</th>\n      <th>ExterCond</th>\n      <th>Foundation</th>\n      <th>BsmtQual</th>\n      <th>BsmtCond</th>\n      <th>BsmtExposure</th>\n      <th>BsmtFinType1</th>\n      <th>BsmtFinSF1</th>\n      <th>BsmtFinType2</th>\n      <th>BsmtFinSF2</th>\n      <th>BsmtUnfSF</th>\n      <th>TotalBsmtSF</th>\n      <th>Heating</th>\n      <th>HeatingQC</th>\n      <th>CentralAir</th>\n      <th>Electrical</th>\n      <th>1stFlrSF</th>\n      <th>2ndFlrSF</th>\n      <th>LowQualFinSF</th>\n      <th>GrLivArea</th>\n      <th>BsmtFullBath</th>\n      <th>BsmtHalfBath</th>\n      <th>FullBath</th>\n      <th>HalfBath</th>\n      <th>BedroomAbvGr</th>\n      <th>KitchenAbvGr</th>\n      <th>KitchenQual</th>\n      <th>TotRmsAbvGrd</th>\n      <th>Functional</th>\n      <th>Fireplaces</th>\n      <th>FireplaceQu</th>\n      <th>GarageType</th>\n      <th>GarageYrBlt</th>\n      <th>GarageFinish</th>\n      <th>GarageCars</th>\n      <th>GarageArea</th>\n      <th>GarageQual</th>\n      <th>GarageCond</th>\n      <th>PavedDrive</th>\n      <th>WoodDeckSF</th>\n      <th>OpenPorchSF</th>\n      <th>EnclosedPorch</th>\n      <th>3SsnPorch</th>\n      <th>ScreenPorch</th>\n      <th>PoolArea</th>\n      <th>PoolQC</th>\n      <th>Fence</th>\n      <th>MiscFeature</th>\n      <th>MiscVal</th>\n      <th>MoSold</th>\n      <th>YrSold</th>\n      <th>SaleType</th>\n      <th>SaleCondition</th>\n    </tr>\n  </thead>\n  <tbody>\n    <tr>\n      <th>930</th>\n      <td>931</td>\n      <td>20.0</td>\n      <td>3.0</td>\n      <td>73.0</td>\n      <td>8925.0</td>\n      <td>1.0</td>\n      <td>2.0</td>\n      <td>0.0</td>\n      <td>1.0</td>\n      <td>0.0</td>\n      <td>4.0</td>\n      <td>0.0</td>\n      <td>22.0</td>\n      <td>2.0</td>\n      <td>0.0</td>\n      <td>0.0</td>\n      <td>1.0</td>\n      <td>8.0</td>\n      <td>5.0</td>\n      <td>2.0</td>\n      <td>2.0</td>\n      <td>0.0</td>\n      <td>0.0</td>\n      <td>8.0</td>\n      <td>8.0</td>\n      <td>2.0</td>\n      <td>0.0</td>\n      <td>2.0</td>\n      <td>4.0</td>\n      <td>2.0</td>\n      <td>2.0</td>\n      <td>3.0</td>\n      <td>0.0</td>\n      <td>2.0</td>\n      <td>16.0</td>\n      <td>5.0</td>\n      <td>0.0</td>\n      <td>1450.0</td>\n      <td>1466.0</td>\n      <td>0.0</td>\n      <td>0.0</td>\n      <td>1.0</td>\n      <td>3.0</td>\n      <td>1466.0</td>\n      <td>0.0</td>\n      <td>0.0</td>\n      <td>1466.0</td>\n      <td>0.0</td>\n      <td>0.0</td>\n      <td>2.0</td>\n      <td>0.0</td>\n      <td>3.0</td>\n      <td>1.0</td>\n      <td>2.0</td>\n      <td>7.0</td>\n      <td>4.0</td>\n      <td>0.0</td>\n      <td>5.0</td>\n      <td>0.0</td>\n      <td>2.0</td>\n      <td>0.0</td>\n      <td>3.0</td>\n      <td>610.0</td>\n      <td>2.0</td>\n      <td>2.0</td>\n      <td>2.0</td>\n      <td>100.0</td>\n      <td>18.0</td>\n      <td>0.0</td>\n      <td>0.0</td>\n      <td>0.0</td>\n      <td>0.0</td>\n      <td>3.0</td>\n      <td>4.0</td>\n      <td>4.0</td>\n      <td>0.0</td>\n      <td>7.0</td>\n      <td>2009.0</td>\n      <td>3.0</td>\n      <td>2.0</td>\n    </tr>\n    <tr>\n      <th>656</th>\n      <td>657</td>\n      <td>20.0</td>\n      <td>3.0</td>\n      <td>72.0</td>\n      <td>10007.0</td>\n      <td>1.0</td>\n      <td>2.0</td>\n      <td>0.0</td>\n      <td>3.0</td>\n      <td>0.0</td>\n      <td>4.0</td>\n      <td>0.0</td>\n      <td>11.0</td>\n      <td>2.0</td>\n      <td>0.0</td>\n      <td>0.0</td>\n      <td>1.0</td>\n      <td>5.0</td>\n      <td>7.0</td>\n      <td>49.0</td>\n      <td>2.0</td>\n      <td>0.0</td>\n      <td>0.0</td>\n      <td>3.0</td>\n      <td>3.0</td>\n      <td>1.0</td>\n      <td>54.0</td>\n      <td>2.0</td>\n      <td>4.0</td>\n      <td>1.0</td>\n      <td>3.0</td>\n      <td>3.0</td>\n      <td>3.0</td>\n      <td>0.0</td>\n      <td>806.0</td>\n      <td>5.0</td>\n      <td>0.0</td>\n      <td>247.0</td>\n      <td>1053.0</td>\n      <td>0.0</td>\n      <td>0.0</td>\n      <td>1.0</td>\n      <td>3.0</td>\n      <td>1053.0</td>\n      <td>0.0</td>\n      <td>0.0</td>\n      <td>1053.0</td>\n      <td>1.0</td>\n      <td>0.0</td>\n      <td>1.0</td>\n      <td>1.0</td>\n      <td>3.0</td>\n      <td>1.0</td>\n      <td>2.0</td>\n      <td>5.0</td>\n      <td>4.0</td>\n      <td>0.0</td>\n      <td>5.0</td>\n      <td>0.0</td>\n      <td>49.0</td>\n      <td>1.0</td>\n      <td>1.0</td>\n      <td>312.0</td>\n      <td>2.0</td>\n      <td>2.0</td>\n      <td>2.0</td>\n      <td>0.0</td>\n      <td>0.0</td>\n      <td>0.0</td>\n      <td>0.0</td>\n      <td>0.0</td>\n      <td>0.0</td>\n      <td>3.0</td>\n      <td>2.0</td>\n      <td>4.0</td>\n      <td>0.0</td>\n      <td>8.0</td>\n      <td>2008.0</td>\n      <td>3.0</td>\n      <td>2.0</td>\n    </tr>\n    <tr>\n      <th>45</th>\n      <td>46</td>\n      <td>120.0</td>\n      <td>3.0</td>\n      <td>61.0</td>\n      <td>7658.0</td>\n      <td>1.0</td>\n      <td>2.0</td>\n      <td>3.0</td>\n      <td>3.0</td>\n      <td>0.0</td>\n      <td>4.0</td>\n      <td>0.0</td>\n      <td>14.0</td>\n      <td>2.0</td>\n      <td>0.0</td>\n      <td>4.0</td>\n      <td>1.0</td>\n      <td>9.0</td>\n      <td>5.0</td>\n      <td>5.0</td>\n      <td>5.0</td>\n      <td>1.0</td>\n      <td>0.0</td>\n      <td>4.0</td>\n      <td>4.0</td>\n      <td>1.0</td>\n      <td>412.0</td>\n      <td>0.0</td>\n      <td>4.0</td>\n      <td>2.0</td>\n      <td>0.0</td>\n      <td>3.0</td>\n      <td>3.0</td>\n      <td>2.0</td>\n      <td>456.0</td>\n      <td>5.0</td>\n      <td>0.0</td>\n      <td>1296.0</td>\n      <td>1752.0</td>\n      <td>0.0</td>\n      <td>0.0</td>\n      <td>1.0</td>\n      <td>3.0</td>\n      <td>1752.0</td>\n      <td>0.0</td>\n      <td>0.0</td>\n      <td>1752.0</td>\n      <td>1.0</td>\n      <td>0.0</td>\n      <td>2.0</td>\n      <td>0.0</td>\n      <td>2.0</td>\n      <td>1.0</td>\n      <td>0.0</td>\n      <td>6.0</td>\n      <td>4.0</td>\n      <td>1.0</td>\n      <td>2.0</td>\n      <td>0.0</td>\n      <td>5.0</td>\n      <td>1.0</td>\n      <td>2.0</td>\n      <td>576.0</td>\n      <td>2.0</td>\n      <td>2.0</td>\n      <td>2.0</td>\n      <td>196.0</td>\n      <td>82.0</td>\n      <td>0.0</td>\n      <td>0.0</td>\n      <td>0.0</td>\n      <td>0.0</td>\n      <td>3.0</td>\n      <td>4.0</td>\n      <td>4.0</td>\n      <td>0.0</td>\n      <td>2.0</td>\n      <td>2010.0</td>\n      <td>3.0</td>\n      <td>2.0</td>\n    </tr>\n    <tr>\n      <th>1348</th>\n      <td>1349</td>\n      <td>20.0</td>\n      <td>3.0</td>\n      <td>-1.0</td>\n      <td>16196.0</td>\n      <td>1.0</td>\n      <td>2.0</td>\n      <td>2.0</td>\n      <td>2.0</td>\n      <td>0.0</td>\n      <td>4.0</td>\n      <td>0.0</td>\n      <td>19.0</td>\n      <td>2.0</td>\n      <td>0.0</td>\n      <td>0.0</td>\n      <td>1.0</td>\n      <td>7.0</td>\n      <td>5.0</td>\n      <td>9.0</td>\n      <td>9.0</td>\n      <td>0.0</td>\n      <td>0.0</td>\n      <td>8.0</td>\n      <td>8.0</td>\n      <td>2.0</td>\n      <td>0.0</td>\n      <td>2.0</td>\n      <td>4.0</td>\n      <td>2.0</td>\n      <td>2.0</td>\n      <td>3.0</td>\n      <td>1.0</td>\n      <td>2.0</td>\n      <td>1443.0</td>\n      <td>5.0</td>\n      <td>0.0</td>\n      <td>39.0</td>\n      <td>1482.0</td>\n      <td>0.0</td>\n      <td>0.0</td>\n      <td>1.0</td>\n      <td>3.0</td>\n      <td>1494.0</td>\n      <td>0.0</td>\n      <td>0.0</td>\n      <td>1494.0</td>\n      <td>1.0</td>\n      <td>0.0</td>\n      <td>2.0</td>\n      <td>0.0</td>\n      <td>3.0</td>\n      <td>1.0</td>\n      <td>2.0</td>\n      <td>5.0</td>\n      <td>4.0</td>\n      <td>1.0</td>\n      <td>1.0</td>\n      <td>0.0</td>\n      <td>9.0</td>\n      <td>1.0</td>\n      <td>2.0</td>\n      <td>514.0</td>\n      <td>2.0</td>\n      <td>2.0</td>\n      <td>2.0</td>\n      <td>402.0</td>\n      <td>25.0</td>\n      <td>0.0</td>\n      <td>0.0</td>\n      <td>0.0</td>\n      <td>0.0</td>\n      <td>3.0</td>\n      <td>4.0</td>\n      <td>4.0</td>\n      <td>0.0</td>\n      <td>8.0</td>\n      <td>2007.0</td>\n      <td>3.0</td>\n      <td>2.0</td>\n    </tr>\n    <tr>\n      <th>55</th>\n      <td>56</td>\n      <td>20.0</td>\n      <td>3.0</td>\n      <td>100.0</td>\n      <td>10175.0</td>\n      <td>1.0</td>\n      <td>2.0</td>\n      <td>0.0</td>\n      <td>3.0</td>\n      <td>0.0</td>\n      <td>4.0</td>\n      <td>0.0</td>\n      <td>11.0</td>\n      <td>2.0</td>\n      <td>0.0</td>\n      <td>0.0</td>\n      <td>1.0</td>\n      <td>6.0</td>\n      <td>5.0</td>\n      <td>44.0</td>\n      <td>44.0</td>\n      <td>0.0</td>\n      <td>0.0</td>\n      <td>3.0</td>\n      <td>5.0</td>\n      <td>1.0</td>\n      <td>272.0</td>\n      <td>3.0</td>\n      <td>4.0</td>\n      <td>1.0</td>\n      <td>3.0</td>\n      <td>3.0</td>\n      <td>3.0</td>\n      <td>1.0</td>\n      <td>490.0</td>\n      <td>5.0</td>\n      <td>0.0</td>\n      <td>935.0</td>\n      <td>1425.0</td>\n      <td>0.0</td>\n      <td>2.0</td>\n      <td>1.0</td>\n      <td>3.0</td>\n      <td>1425.0</td>\n      <td>0.0</td>\n      <td>0.0</td>\n      <td>1425.0</td>\n      <td>0.0</td>\n      <td>0.0</td>\n      <td>2.0</td>\n      <td>0.0</td>\n      <td>3.0</td>\n      <td>1.0</td>\n      <td>3.0</td>\n      <td>7.0</td>\n      <td>4.0</td>\n      <td>1.0</td>\n      <td>2.0</td>\n      <td>0.0</td>\n      <td>44.0</td>\n      <td>1.0</td>\n      <td>2.0</td>\n      <td>576.0</td>\n      <td>2.0</td>\n      <td>2.0</td>\n      <td>2.0</td>\n      <td>0.0</td>\n      <td>0.0</td>\n      <td>0.0</td>\n      <td>407.0</td>\n      <td>0.0</td>\n      <td>0.0</td>\n      <td>3.0</td>\n      <td>4.0</td>\n      <td>4.0</td>\n      <td>0.0</td>\n      <td>7.0</td>\n      <td>2008.0</td>\n      <td>3.0</td>\n      <td>2.0</td>\n    </tr>\n  </tbody>\n</table>\n</div>"
     },
     "execution_count": 65,
     "metadata": {},
     "output_type": "execute_result"
    },
    {
     "name": "stdout",
     "output_type": "stream",
     "text": [
      "time: 47 ms (started: 2022-10-05 19:17:58 +02:00)\n"
     ]
    }
   ],
   "source": [
    "X_train.head()"
   ]
  },
  {
   "cell_type": "markdown",
   "metadata": {},
   "source": [
    "## Gradient boosting regressor"
   ]
  },
  {
   "cell_type": "code",
   "execution_count": null,
   "metadata": {},
   "outputs": [],
   "source": [
    "tree_reg = GradientBoostingRegressor(random_state=0, n_estimators=50)\n",
    "tree_reg.fit(X_train, y_train)"
   ]
  },
  {
   "cell_type": "code",
   "execution_count": 78,
   "metadata": {},
   "outputs": [
    {
     "name": "stdout",
     "output_type": "stream",
     "text": [
      "linear train mse: 319335295.90204245\n",
      "linear train rmse: 17869.955117516172\n",
      "\n",
      "linear test mse: 1100602976.041241\n",
      "linear test rmse: 33175.33686402055\n",
      "time: 16 ms (started: 2022-10-05 10:20:44 +02:00)\n"
     ]
    }
   ],
   "source": [
    "# evaluate the model:\n",
    "\n",
    "# We will evaluate performance using the mean squared error and the\n",
    "# root of the mean squared error\n",
    "\n",
    "pred = tree_reg.predict(X_train)\n",
    "print('linear train mse: {}'.format(mean_squared_error(y_train, pred)))\n",
    "print('linear train rmse: {}'.format(sqrt(mean_squared_error(y_train, pred))))\n",
    "print()\n",
    "pred = tree_reg.predict(X_test)\n",
    "print('linear test mse: {}'.format(mean_squared_error(y_test, pred)))\n",
    "print('linear test rmse: {}'.format(sqrt(mean_squared_error(y_test, pred))))"
   ]
  },
  {
   "cell_type": "code",
   "execution_count": 79,
   "metadata": {},
   "outputs": [
    {
     "name": "stdout",
     "output_type": "stream",
     "text": [
      "\n",
      "Prediction analysis from old Lasso Regression:\n",
      "---------------------------------------------\n",
      "linear train mse: 1087435415.4414542\n",
      "linear train rmse: 32976.28565259366\n",
      "\n",
      "linear test mse: 1405259552.2596064\n",
      "linear test rmse: 37486.79170400698\n",
      "\n",
      "time: 0 ns (started: 2022-10-05 10:20:44 +02:00)\n"
     ]
    }
   ],
   "source": [
    "# These are the values produced by our current live model\n",
    "# we new them from the past, so I pase them here for information\n",
    "\n",
    "print('''\n",
    "Prediction analysis from old Lasso Regression:\n",
    "---------------------------------------------\n",
    "linear train mse: 1087435415.4414542\n",
    "linear train rmse: 32976.28565259366\n",
    "\n",
    "linear test mse: 1405259552.2596064\n",
    "linear test rmse: 37486.79170400698\n",
    "''')"
   ]
  },
  {
   "cell_type": "code",
   "execution_count": 80,
   "metadata": {},
   "outputs": [
    {
     "data": {
      "text/plain": "Text(0.5, 1.0, 'Evaluation of Lasso Predictions')"
     },
     "execution_count": 80,
     "metadata": {},
     "output_type": "execute_result"
    },
    {
     "data": {
      "text/plain": "<Figure size 640x480 with 1 Axes>",
      "image/png": "[encoded data removed]"
     },
     "metadata": {},
     "output_type": "display_data"
    },
    {
     "name": "stdout",
     "output_type": "stream",
     "text": [
      "time: 219 ms (started: 2022-10-05 10:20:44 +02:00)\n"
     ]
    }
   ],
   "source": [
    "# let's evaluate our predictions respect to the original price\n",
    "\n",
    "plt.scatter(y_test, tree_reg.predict(X_test))\n",
    "plt.xlabel('True House Price')\n",
    "plt.ylabel('Predicted House Price')\n",
    "plt.title('Evaluation of Lasso Predictions')"
   ]
  },
  {
   "cell_type": "markdown",
   "metadata": {},
   "source": [
    "## Feature Selection"
   ]
  },
  {
   "cell_type": "code",
   "execution_count": 81,
   "metadata": {},
   "outputs": [
    {
     "data": {
      "text/plain": "SelectFromModel(estimator=GradientBoostingRegressor(n_estimators=50,\n                                                    random_state=0))"
     },
     "execution_count": 81,
     "metadata": {},
     "output_type": "execute_result"
    },
    {
     "name": "stdout",
     "output_type": "stream",
     "text": [
      "time: 281 ms (started: 2022-10-05 10:20:45 +02:00)\n"
     ]
    }
   ],
   "source": [
    "# here I will do the model fitting and feature selection\n",
    "# altogether in one line of code\n",
    "\n",
    "# To select features we use Scikit-learn's SelectFromModel\n",
    "# specifying the Gradient Boosting Regressor model\n",
    "\n",
    "# and we train the SelectFromModel with the train set.\n",
    "\n",
    "# remember to set the seed, the random state in this function\n",
    "sel_ = SelectFromModel(GradientBoostingRegressor(\n",
    "    random_state=0, n_estimators=50))\n",
    "sel_.fit(X_train, y_train)"
   ]
  },
  {
   "cell_type": "code",
   "execution_count": 82,
   "metadata": {},
   "outputs": [
    {
     "name": "stdout",
     "output_type": "stream",
     "text": [
      "total features: 80\n",
      "selected features: 10\n",
      "time: 0 ns (started: 2022-10-05 10:20:45 +02:00)\n"
     ]
    }
   ],
   "source": [
    "# let's print the number of total and selected features\n",
    "\n",
    "# this is how we can make a list of the selected features\n",
    "selected_feat = X_train.columns[(sel_.get_support())]\n",
    "\n",
    "# let's print some stats\n",
    "print('total features: {}'.format((X_train.shape[1])))\n",
    "print('selected features: {}'.format(len(selected_feat)))"
   ]
  },
  {
   "cell_type": "code",
   "execution_count": 83,
   "metadata": {},
   "outputs": [
    {
     "data": {
      "text/plain": "Index(['LotArea', 'OverallQual', 'YearRemodAdd', 'BsmtQual', 'BsmtFinSF1',\n       'TotalBsmtSF', '1stFlrSF', '2ndFlrSF', 'GrLivArea', 'GarageCars'],\n      dtype='object')"
     },
     "execution_count": 83,
     "metadata": {},
     "output_type": "execute_result"
    },
    {
     "name": "stdout",
     "output_type": "stream",
     "text": [
      "time: 0 ns (started: 2022-10-05 10:20:45 +02:00)\n"
     ]
    }
   ],
   "source": [
    "selected_feat"
   ]
  },
  {
   "cell_type": "markdown",
   "metadata": {},
   "source": [
    "## Re-build model with selected features"
   ]
  },
  {
   "cell_type": "code",
   "execution_count": 27,
   "metadata": {},
   "outputs": [
    {
     "data": {
      "text/plain": [
       "GradientBoostingRegressor(alpha=0.9, ccp_alpha=0.0, criterion='friedman_mse',\n",
       "                          init=None, learning_rate=0.1, loss='ls', max_depth=3,\n",
       "                          max_features=None, max_leaf_nodes=None,\n",
       "                          min_impurity_decrease=0.0, min_impurity_split=None,\n",
       "                          min_samples_leaf=1, min_samples_split=2,\n",
       "                          min_weight_fraction_leaf=0.0, n_estimators=50,\n",
       "                          n_iter_no_change=None, presort='deprecated',\n",
       "                          random_state=0, subsample=1.0, tol=0.0001,\n",
       "                          validation_fraction=0.1, verbose=0, warm_start=False)"
      ]
     },
     "execution_count": 27,
     "metadata": {},
     "output_type": "execute_result"
    }
   ],
   "source": [
    "tree_reg = GradientBoostingRegressor(random_state=0, n_estimators=50)\n",
    "tree_reg.fit(X_train[selected_feat], y_train)"
   ]
  },
  {
   "cell_type": "code",
   "execution_count": 28,
   "metadata": {},
   "outputs": [
    {
     "name": "stdout",
     "output_type": "stream",
     "text": [
      "linear train mse: 418644251.8706319\n",
      "linear train rmse: 20460.797928493204\n",
      "\n",
      "linear test mse: 633153768.8943316\n",
      "linear test rmse: 25162.54694768261\n"
     ]
    }
   ],
   "source": [
    "pred = tree_reg.predict(X_train[selected_feat])\n",
    "print('linear train mse: {}'.format(mean_squared_error(y_train, pred)))\n",
    "print('linear train rmse: {}'.format(sqrt(mean_squared_error(y_train, pred))))\n",
    "print()\n",
    "pred = tree_reg.predict(X_test[selected_feat])\n",
    "print('linear test mse: {}'.format(mean_squared_error(y_test, pred)))\n",
    "print('linear test rmse: {}'.format(sqrt(mean_squared_error(y_test, pred))))"
   ]
  },
  {
   "cell_type": "code",
   "execution_count": 29,
   "metadata": {},
   "outputs": [
    {
     "data": {
      "text/html": [
       "<div>\n",
       "<style scoped>\n",
       "    .dataframe tbody tr th:only-of-type {\n",
       "        vertical-align: middle;\n",
       "    }\n",
       "\n",
       "    .dataframe tbody tr th {\n",
       "        vertical-align: top;\n",
       "    }\n",
       "\n",
       "    .dataframe thead th {\n",
       "        text-align: right;\n",
       "    }\n",
       "</style>\n",
       "<table border=\"1\" class=\"dataframe\">\n",
       "  <thead>\n",
       "    <tr style=\"text-align: right;\">\n",
       "      <th></th>\n",
       "      <th>LotArea</th>\n",
       "      <th>OverallQual</th>\n",
       "      <th>YearRemodAdd</th>\n",
       "      <th>BsmtQual</th>\n",
       "      <th>BsmtFinSF1</th>\n",
       "      <th>TotalBsmtSF</th>\n",
       "      <th>1stFlrSF</th>\n",
       "      <th>2ndFlrSF</th>\n",
       "      <th>GrLivArea</th>\n",
       "      <th>GarageCars</th>\n",
       "    </tr>\n",
       "  </thead>\n",
       "  <tbody>\n",
       "    <tr>\n",
       "      <th>0</th>\n",
       "      <td>8450</td>\n",
       "      <td>7</td>\n",
       "      <td>2003</td>\n",
       "      <td>Gd</td>\n",
       "      <td>706</td>\n",
       "      <td>856</td>\n",
       "      <td>856</td>\n",
       "      <td>854</td>\n",
       "      <td>1710</td>\n",
       "      <td>2</td>\n",
       "    </tr>\n",
       "    <tr>\n",
       "      <th>1</th>\n",
       "      <td>9600</td>\n",
       "      <td>6</td>\n",
       "      <td>1976</td>\n",
       "      <td>Gd</td>\n",
       "      <td>978</td>\n",
       "      <td>1262</td>\n",
       "      <td>1262</td>\n",
       "      <td>0</td>\n",
       "      <td>1262</td>\n",
       "      <td>2</td>\n",
       "    </tr>\n",
       "    <tr>\n",
       "      <th>2</th>\n",
       "      <td>11250</td>\n",
       "      <td>7</td>\n",
       "      <td>2002</td>\n",
       "      <td>Gd</td>\n",
       "      <td>486</td>\n",
       "      <td>920</td>\n",
       "      <td>920</td>\n",
       "      <td>866</td>\n",
       "      <td>1786</td>\n",
       "      <td>2</td>\n",
       "    </tr>\n",
       "    <tr>\n",
       "      <th>3</th>\n",
       "      <td>9550</td>\n",
       "      <td>7</td>\n",
       "      <td>1970</td>\n",
       "      <td>TA</td>\n",
       "      <td>216</td>\n",
       "      <td>756</td>\n",
       "      <td>961</td>\n",
       "      <td>756</td>\n",
       "      <td>1717</td>\n",
       "      <td>3</td>\n",
       "    </tr>\n",
       "    <tr>\n",
       "      <th>4</th>\n",
       "      <td>14260</td>\n",
       "      <td>8</td>\n",
       "      <td>2000</td>\n",
       "      <td>Gd</td>\n",
       "      <td>655</td>\n",
       "      <td>1145</td>\n",
       "      <td>1145</td>\n",
       "      <td>1053</td>\n",
       "      <td>2198</td>\n",
       "      <td>3</td>\n",
       "    </tr>\n",
       "  </tbody>\n",
       "</table>\n",
       "</div>"
      ],
      "text/plain": [
       "   LotArea  OverallQual  YearRemodAdd BsmtQual  BsmtFinSF1  TotalBsmtSF  \\\n",
       "0     8450            7          2003       Gd         706          856   \n",
       "1     9600            6          1976       Gd         978         1262   \n",
       "2    11250            7          2002       Gd         486          920   \n",
       "3     9550            7          1970       TA         216          756   \n",
       "4    14260            8          2000       Gd         655         1145   \n",
       "\n",
       "   1stFlrSF  2ndFlrSF  GrLivArea  GarageCars  \n",
       "0       856       854       1710           2  \n",
       "1      1262         0       1262           2  \n",
       "2       920       866       1786           2  \n",
       "3       961       756       1717           3  \n",
       "4      1145      1053       2198           3  "
      ]
     },
     "execution_count": 29,
     "metadata": {},
     "output_type": "execute_result"
    }
   ],
   "source": [
    "data[selected_feat].head()"
   ]
  },
  {
   "cell_type": "code",
   "execution_count": 30,
   "metadata": {},
   "outputs": [],
   "source": [
    "# make a list of the categorical variables that contain missing values\n",
    "\n",
    "vars_dates = ['YearRemodAdd']\n",
    "vars_cat = ['BsmtQual']\n",
    "vars_num = ['LotArea', 'OverallQual', 'YearRemodAdd', 'BsmtQual', 'BsmtFinSF1',\n",
    "            'TotalBsmtSF', '1stFlrSF', '2ndFlrSF', 'GrLivArea', 'GarageCars']"
   ]
  },
  {
   "cell_type": "code",
   "execution_count": null,
   "metadata": {},
   "outputs": [],
   "source": []
  }
 ],
 "metadata": {
  "kernelspec": {
   "display_name": "Python 3",
   "language": "python",
   "name": "python3"
  },
  "language_info": {
   "codemirror_mode": {
    "name": "ipython",
    "version": 3
   },
   "file_extension": ".py",
   "mimetype": "text/x-python",
   "name": "python",
   "nbconvert_exporter": "python",
   "pygments_lexer": "ipython3",
   "version": "3.7.6"
  },
  "toc": {
   "nav_menu": {},
   "number_sections": true,
   "sideBar": true,
   "skip_h1_title": false,
   "toc_cell": false,
   "toc_position": {
    "height": "583px",
    "left": "0px",
    "right": "1324px",
    "top": "107px",
    "width": "212px"
   },
   "toc_section_display": "block",
   "toc_window_display": true
  }
 },
 "nbformat": 4,
 "nbformat_minor": 2
}
